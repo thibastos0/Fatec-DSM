{
  "cells": [
    {
      "cell_type": "code",
      "execution_count": 11,
      "metadata": {
        "vscode": {
          "languageId": "plaintext"
        },
        "id": "uPmUrGanYFwO",
        "outputId": "60b92bb2-b70c-4b13-e65b-52f87dc38dfb",
        "colab": {
          "base_uri": "https://localhost:8080/"
        }
      },
      "outputs": [
        {
          "output_type": "stream",
          "name": "stdout",
          "text": [
            "Requirement already satisfied: textblob in /usr/local/lib/python3.10/dist-packages (0.17.1)\n",
            "Requirement already satisfied: nltk>=3.1 in /usr/local/lib/python3.10/dist-packages (from textblob) (3.9.1)\n",
            "Requirement already satisfied: click in /usr/local/lib/python3.10/dist-packages (from nltk>=3.1->textblob) (8.1.7)\n",
            "Requirement already satisfied: joblib in /usr/local/lib/python3.10/dist-packages (from nltk>=3.1->textblob) (1.4.2)\n",
            "Requirement already satisfied: regex>=2021.8.3 in /usr/local/lib/python3.10/dist-packages (from nltk>=3.1->textblob) (2024.11.6)\n",
            "Requirement already satisfied: tqdm in /usr/local/lib/python3.10/dist-packages (from nltk>=3.1->textblob) (4.67.1)\n"
          ]
        }
      ],
      "source": [
        "%pip install textblob"
      ]
    },
    {
      "cell_type": "code",
      "source": [],
      "metadata": {
        "id": "dWMU-j743gAx"
      },
      "execution_count": null,
      "outputs": []
    },
    {
      "cell_type": "code",
      "execution_count": 53,
      "metadata": {
        "vscode": {
          "languageId": "plaintext"
        },
        "id": "eWAhrBoSYFwU",
        "outputId": "6201e921-4960-41fe-9971-c5290c0e2f70",
        "colab": {
          "base_uri": "https://localhost:8080/"
        }
      },
      "outputs": [
        {
          "output_type": "stream",
          "name": "stdout",
          "text": [
            "Informe a frase que deseja analisar: unhapy\n",
            "[('unhappy', 1.0)]\n",
            "Segue texto após análise: \u001b[1;31;43munhappy\u001b[m\n"
          ]
        },
        {
          "output_type": "execute_result",
          "data": {
            "text/plain": [
              "Sentiment(polarity=-0.6, subjectivity=0.9)"
            ]
          },
          "metadata": {},
          "execution_count": 53
        }
      ],
      "source": [
        "import textblob as tb\n",
        "\n",
        "def correct_grammar(texto):\n",
        "    blob = tb.TextBlob(texto)\n",
        "    # blob.detect_language()\n",
        "    # blob.translate(from_lang = 'pt', to = 'en')\n",
        "    print(tb.Word(texto).spellcheck())\n",
        "    corrigir_texto = str(blob.correct())\n",
        "    return corrigir_texto\n",
        "\n",
        "frase = input(\"Informe a frase que deseja analisar: \")\n",
        "analisado = correct_grammar(frase)\n",
        "print(f\"Segue texto após análise: \\33[1;31;43m{analisado}\\033[m\")\n",
        "\n",
        "# testes diversos\n",
        "tb.TextBlob(analisado).sentiment # para verificar se a frase é negativa ou positiva"
      ]
    }
  ],
  "metadata": {
    "language_info": {
      "name": "python"
    },
    "colab": {
      "provenance": []
    },
    "kernelspec": {
      "name": "python3",
      "display_name": "Python 3"
    }
  },
  "nbformat": 4,
  "nbformat_minor": 0
}