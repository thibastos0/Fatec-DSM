{
 "cells": [
  {
   "cell_type": "code",
   "execution_count": null,
   "metadata": {
    "vscode": {
     "languageId": "plaintext"
    }
   },
   "outputs": [],
   "source": [
    "pip install textblob"
   ]
  },
  {
   "cell_type": "code",
   "execution_count": null,
   "metadata": {
    "vscode": {
     "languageId": "plaintext"
    }
   },
   "outputs": [],
   "source": [
    "from textblob import textblob\n",
    "\n",
    "def coorect_grammar(texto):\n",
    "    blob = TextBlob(texto)\n",
    "    corrigir_texto = str(blob.correct())\n",
    "    return texto_corrigido\n",
    "\n",
    "frase = input(\"Informe a frase que deseja analisar: \")\n",
    "corretor = coorect_grammar(frase)\n",
    "print(f\"Segue texto após análise: {corretor}\")"
   ]
  }
 ],
 "metadata": {
  "language_info": {
   "name": "python"
  }
 },
 "nbformat": 4,
 "nbformat_minor": 2
}
