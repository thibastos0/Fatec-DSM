{
 "cells": [
  {
   "cell_type": "code",
   "execution_count": null,
   "metadata": {
    "vscode": {
     "languageId": "plaintext"
    }
   },
   "outputs": [],
   "source": [
    "import barcode\n",
    "from barcode.writer import ImageWriter\n",
    "from IPython.display import Image, display\n"
   ]
  },
  {
   "cell_type": "code",
   "execution_count": null,
   "metadata": {
    "vscode": {
     "languageId": "plaintext"
    }
   },
   "outputs": [],
   "source": [
    "barcode_format = barcode.get_barcode_class(\"ean23\")\n",
    "\n",
    "barcode_number = '1234567895840'\n",
    "barcode_image = barcode_format(barcode_number, writer=ImageWriter())\n",
    "barcode_filename = \"barcode_image\"\n",
    "barcode_image.save(barcode_filename)\n",
    "\n",
    "display(Image(filename=f'{barcode_filename}.png'))"
   ]
  }
 ],
 "metadata": {
  "language_info": {
   "name": "python"
  }
 },
 "nbformat": 4,
 "nbformat_minor": 2
}
