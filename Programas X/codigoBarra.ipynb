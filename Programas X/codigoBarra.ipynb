{
  "cells": [
    {
      "cell_type": "code",
      "source": [
        "!pip install python-barcode[images]"
      ],
      "metadata": {
        "id": "Q0hsFRU9SCHO",
        "outputId": "e380429f-5152-47ea-cba6-4269fedfb30d",
        "colab": {
          "base_uri": "https://localhost:8080/"
        }
      },
      "execution_count": 2,
      "outputs": [
        {
          "output_type": "stream",
          "name": "stdout",
          "text": [
            "Collecting python-barcode[images]\n",
            "  Downloading python_barcode-0.15.1-py3-none-any.whl.metadata (2.3 kB)\n",
            "Requirement already satisfied: pillow in /usr/local/lib/python3.10/dist-packages (from python-barcode[images]) (11.0.0)\n",
            "Downloading python_barcode-0.15.1-py3-none-any.whl (212 kB)\n",
            "\u001b[?25l   \u001b[90m━━━━━━━━━━━━━━━━━━━━━━━━━━━━━━━━━━━━━━━━\u001b[0m \u001b[32m0.0/213.0 kB\u001b[0m \u001b[31m?\u001b[0m eta \u001b[36m-:--:--\u001b[0m\r\u001b[2K   \u001b[91m━━━━━━━━━━━━━━━━━━━━━━━━━━━━━━━━━━━━━━\u001b[0m\u001b[90m╺\u001b[0m\u001b[90m━\u001b[0m \u001b[32m204.8/213.0 kB\u001b[0m \u001b[31m6.2 MB/s\u001b[0m eta \u001b[36m0:00:01\u001b[0m\r\u001b[2K   \u001b[90m━━━━━━━━━━━━━━━━━━━━━━━━━━━━━━━━━━━━━━━━\u001b[0m \u001b[32m213.0/213.0 kB\u001b[0m \u001b[31m4.7 MB/s\u001b[0m eta \u001b[36m0:00:00\u001b[0m\n",
            "\u001b[?25hInstalling collected packages: python-barcode\n",
            "Successfully installed python-barcode-0.15.1\n"
          ]
        }
      ]
    },
    {
      "cell_type": "code",
      "execution_count": 6,
      "metadata": {
        "vscode": {
          "languageId": "plaintext"
        },
        "id": "Cc-sQmpmRrUU",
        "outputId": "9a03c8db-e0c9-4e94-f2d4-431d5072cdd5",
        "colab": {
          "base_uri": "https://localhost:8080/",
          "height": 297
        }
      },
      "outputs": [
        {
          "output_type": "display_data",
          "data": {
            "image/png": "[encoded data removed]",
            "text/plain": [
              "<IPython.core.display.Image object>"
            ]
          },
          "metadata": {}
        }
      ],
      "source": [
        "import barcode\n",
        "from barcode.writer import ImageWriter\n",
        "from IPython.display import Image, display\n",
        "\n",
        "barcode_format = barcode.get_barcode_class(\"ean13\")\n",
        "\n",
        "barcode_number = '1234567895840'\n",
        "barcode_image = barcode_format(barcode_number, writer=ImageWriter())\n",
        "barcode_filename = \"barcode_image\"\n",
        "barcode_image.save(barcode_filename)\n",
        "\n",
        "display(Image(filename=f'{barcode_filename}.png'))"
      ]
    }
  ],
  "metadata": {
    "language_info": {
      "name": "python"
    },
    "colab": {
      "provenance": []
    },
    "kernelspec": {
      "name": "python3",
      "display_name": "Python 3"
    }
  },
  "nbformat": 4,
  "nbformat_minor": 0
}