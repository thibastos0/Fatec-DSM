{
  "cells": [
    {
      "cell_type": "code",
      "execution_count": 3,
      "metadata": {
        "vscode": {
          "languageId": "plaintext"
        },
        "id": "Nikc-afndANw",
        "outputId": "57ae5a17-6651-43cf-e24c-016e0fb409be",
        "colab": {
          "base_uri": "https://localhost:8080/"
        }
      },
      "outputs": [
        {
          "output_type": "stream",
          "name": "stdout",
          "text": [
            "4 9\n"
          ]
        },
        {
          "output_type": "execute_result",
          "data": {
            "text/plain": [
              "['_Base__x',\n",
              " '_Child__x',\n",
              " '__class__',\n",
              " '__delattr__',\n",
              " '__dict__',\n",
              " '__dir__',\n",
              " '__doc__',\n",
              " '__eq__',\n",
              " '__format__',\n",
              " '__ge__',\n",
              " '__getattribute__',\n",
              " '__getstate__',\n",
              " '__gt__',\n",
              " '__hash__',\n",
              " '__init__',\n",
              " '__init_subclass__',\n",
              " '__le__',\n",
              " '__lt__',\n",
              " '__module__',\n",
              " '__ne__',\n",
              " '__new__',\n",
              " '__reduce__',\n",
              " '__reduce_ex__',\n",
              " '__repr__',\n",
              " '__setattr__',\n",
              " '__sizeof__',\n",
              " '__str__',\n",
              " '__subclasshook__',\n",
              " '__weakref__',\n",
              " 'display',\n",
              " 'y']"
            ]
          },
          "metadata": {},
          "execution_count": 3
        }
      ],
      "source": [
        "class Base:\n",
        "    def __init__(self):\n",
        "        self.__x = 4\n",
        "        self.y = 2\n",
        "    def display(self):\n",
        "        print(self.__x, self.y)\n",
        "\n",
        "class Child(Base):\n",
        "    def __init__(self):\n",
        "        super().__init__()\n",
        "        self.__x = 5\n",
        "        self.y = 9\n",
        "\n",
        "obj = Child()\n",
        "obj.display()\n",
        "\n",
        "# A construção da variável self.__x, é diferente.\n",
        "# Ao pesquisar por __x na lista, não há variável com esse nome.\n",
        "# Aqui acontece o \"name mangling\" que o Python realiza. O interpretador faz isso para proteger a variável de ser substituída em subclasses.\n",
        "\n",
        "dir(obj)"
      ]
    }
  ],
  "metadata": {
    "language_info": {
      "name": "python"
    },
    "colab": {
      "provenance": []
    },
    "kernelspec": {
      "name": "python3",
      "display_name": "Python 3"
    }
  },
  "nbformat": 4,
  "nbformat_minor": 0
}