{
 "cells": [
  {
   "cell_type": "code",
   "execution_count": null,
   "metadata": {
    "vscode": {
     "languageId": "plaintext"
    }
   },
   "outputs": [],
   "source": [
    "class Base:\n",
    "    def __init__(self):\n",
    "        self.__x = 4\n",
    "        self.y = 2\n",
    "    def display(self):\n",
    "        print(self.__x, self.y)\n",
    "\n",
    "class Child(Base):\n",
    "    def __init__(self):\n",
    "        super().__init__()\n",
    "        self.__x = 5\n",
    "        self.y = 9\n",
    "\n",
    "obj = Child()\n",
    "obj.display()"
   ]
  }
 ],
 "metadata": {
  "language_info": {
   "name": "python"
  }
 },
 "nbformat": 4,
 "nbformat_minor": 2
}
