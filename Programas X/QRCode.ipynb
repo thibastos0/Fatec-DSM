{
 "cells": [
  {
   "cell_type": "code",
   "execution_count": null,
   "metadata": {
    "vscode": {
     "languageId": "plaintext"
    }
   },
   "outputs": [],
   "source": [
    "import qrcode\n",
    "from PIL import Image"
   ]
  },
  {
   "cell_type": "code",
   "execution_count": null,
   "metadata": {
    "vscode": {
     "languageId": "plaintext"
    }
   },
   "outputs": [],
   "source": [
    "info = input(\"Informe qualquer coida para gerar um código QR: \")\n",
    "qr = qrcode.QRCod(version=2. box_size=10, border=4)\n",
    "qr.add_data(info)\n",
    "qr.make(fit=True)\n",
    "imagem = qr.make_image(fill=\"black\", back_colo=\"yellow\")\n",
    "\n",
    "image.save(\"qr_code.png\")\n",
    "image.open(\"qr_code.png\")"
   ]
  }
 ],
 "metadata": {
  "language_info": {
   "name": "python"
  }
 },
 "nbformat": 4,
 "nbformat_minor": 2
}
