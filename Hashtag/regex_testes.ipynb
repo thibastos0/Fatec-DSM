{
  "cells": [
    {
      "cell_type": "code",
      "execution_count": 1,
      "metadata": {
        "vscode": {
          "languageId": "plaintext"
        },
        "id": "LKFfrwvUTDBI"
      },
      "outputs": [],
      "source": [
        "import re"
      ]
    },
    {
      "cell_type": "code",
      "execution_count": 90,
      "metadata": {
        "vscode": {
          "languageId": "plaintext"
        },
        "id": "8Q9dq-miTDBJ",
        "outputId": "30d51f63-e2e3-48e1-8e79-199fa25ec90c",
        "colab": {
          "base_uri": "https://localhost:8080/"
        }
      },
      "outputs": [
        {
          "output_type": "stream",
          "name": "stdout",
          "text": [
            "['test']\n"
          ]
        }
      ],
      "source": [
        "texto = \"Hoje é 20 de dezembro de 2024.\" \\\n",
        "\"Estou apenas testando os códigos da hashtag\" \\\n",
        "\"para treinar um pouco de Python.\"\n",
        "texto2 = '''\n",
        "\\n Continuo 322 escrevendo para incluir\n",
        "caracter 5499 especial em Python.\n",
        "Sites diversos:\n",
        "http://google.com/\n",
        "https://www.youtube.com.br/\n",
        "https://www.hashtagtreinamentos.com/\n",
        "https://www.gov.br/\n",
        "https://www.faetec.rj.gov.br/\n",
        "'''\n",
        "padrao = re.compile('te.t')\n",
        "verificar = re.findall(padrao, texto)\n",
        "print(verificar)"
      ]
    },
    {
      "cell_type": "code",
      "source": [
        "# ^ para localizar primeira ocorrência na string. Busca por qualquer string que inicie com o padrão definido\n",
        "# [^] exceção\n",
        "padrao1 = re.compile('^Ho')\n",
        "padrao2 = re.compile('[^a]')\n",
        "verificar = padrao1.findall(texto)\n",
        "print(verificar)\n",
        "verificar = padrao2.findall(texto)\n",
        "print(verificar)"
      ],
      "metadata": {
        "id": "fu5TSkgWWgSi",
        "outputId": "75fb454e-28f1-4b8c-a207-28997aea09a7",
        "colab": {
          "base_uri": "https://localhost:8080/"
        }
      },
      "execution_count": 38,
      "outputs": [
        {
          "output_type": "stream",
          "name": "stdout",
          "text": [
            "['Ho']\n",
            "['H', 'o', 'j', 'e', ' ', 'é', ' ', '2', '0', ' ', 'd', 'e', ' ', 'd', 'e', 'z', 'e', 'm', 'b', 'r', 'o', ' ', 'd', 'e', ' ', '2', '0', '2', '4', '.', 'E', 's', 't', 'o', 'u', ' ', 'p', 'e', 'n', 's', ' ', 't', 'e', 's', 't', 'n', 'd', 'o', ' ', 'o', 's', ' ', 'c', 'ó', 'd', 'i', 'g', 'o', 's', ' ', 'd', ' ', 'h', 's', 'h', 't', 'g', 'p', 'r', ' ', 't', 'r', 'e', 'i', 'n', 'r', ' ', 'u', 'm', ' ', 'p', 'o', 'u', 'c', 'o', ' ', 'd', 'e', ' ', 'P', 'y', 't', 'h', 'o', 'n', '.']\n"
          ]
        }
      ]
    },
    {
      "cell_type": "code",
      "source": [
        "# \\d qq de 0 a 9\n",
        "# \\D exceto 0 a 9\n",
        "padrao3 = re.compile(r'\\d')\n",
        "padrao4 = re.compile(r'\\D')\n",
        "verificar = padrao3.findall(texto)\n",
        "print(verificar)\n",
        "verificar = padrao4.findall(texto)\n",
        "print(verificar)\n"
      ],
      "metadata": {
        "id": "15GTSOQ4YCRj",
        "outputId": "2a39648d-b2cb-48bc-afb1-1e94f6037546",
        "colab": {
          "base_uri": "https://localhost:8080/"
        }
      },
      "execution_count": 39,
      "outputs": [
        {
          "output_type": "stream",
          "name": "stdout",
          "text": [
            "['2', '0', '2', '0', '2', '4']\n",
            "['H', 'o', 'j', 'e', ' ', 'é', ' ', ' ', 'd', 'e', ' ', 'd', 'e', 'z', 'e', 'm', 'b', 'r', 'o', ' ', 'd', 'e', ' ', '.', 'E', 's', 't', 'o', 'u', ' ', 'a', 'p', 'e', 'n', 'a', 's', ' ', 't', 'e', 's', 't', 'a', 'n', 'd', 'o', ' ', 'o', 's', ' ', 'c', 'ó', 'd', 'i', 'g', 'o', 's', ' ', 'd', 'a', ' ', 'h', 'a', 's', 'h', 't', 'a', 'g', 'p', 'a', 'r', 'a', ' ', 't', 'r', 'e', 'i', 'n', 'a', 'r', ' ', 'u', 'm', ' ', 'p', 'o', 'u', 'c', 'o', ' ', 'd', 'e', ' ', 'P', 'y', 't', 'h', 'o', 'n', '.']\n"
          ]
        }
      ]
    },
    {
      "cell_type": "code",
      "source": [
        "# \\s qq caracter que seja vazio\n",
        "# \\S qq caracter que não seja vazio\n",
        "\n",
        "padrao5 = re.compile(r'\\s')\n",
        "padrao6 = re.compile(r'\\S')\n",
        "verificar = padrao5.findall(texto + texto2)\n",
        "print(verificar)\n",
        "verificar = padrao6.findall(texto + texto2)\n",
        "print(verificar)"
      ],
      "metadata": {
        "id": "9NtBCQB_dQr_",
        "outputId": "b8aad743-3f12-4d8c-d7fa-acf6ef9b0581",
        "colab": {
          "base_uri": "https://localhost:8080/"
        }
      },
      "execution_count": 40,
      "outputs": [
        {
          "output_type": "stream",
          "name": "stdout",
          "text": [
            "[' ', ' ', ' ', ' ', ' ', ' ', ' ', ' ', ' ', ' ', ' ', ' ', ' ', ' ', ' ', ' ', ' ', '\\n', '\\n', ' ', ' ', ' ', ' ', '\\n', ' ', ' ', ' ', '\\n']\n",
            "['H', 'o', 'j', 'e', 'é', '2', '0', 'd', 'e', 'd', 'e', 'z', 'e', 'm', 'b', 'r', 'o', 'd', 'e', '2', '0', '2', '4', '.', 'E', 's', 't', 'o', 'u', 'a', 'p', 'e', 'n', 'a', 's', 't', 'e', 's', 't', 'a', 'n', 'd', 'o', 'o', 's', 'c', 'ó', 'd', 'i', 'g', 'o', 's', 'd', 'a', 'h', 'a', 's', 'h', 't', 'a', 'g', 'p', 'a', 'r', 'a', 't', 'r', 'e', 'i', 'n', 'a', 'r', 'u', 'm', 'p', 'o', 'u', 'c', 'o', 'd', 'e', 'P', 'y', 't', 'h', 'o', 'n', '.', 'C', 'o', 'n', 't', 'i', 'n', 'u', 'o', 'e', 's', 'c', 'r', 'e', 'v', 'e', 'n', 'd', 'o', 'p', 'a', 'r', 'a', 'i', 'n', 'c', 'l', 'u', 'i', 'r', 'c', 'a', 'r', 'a', 'c', 't', 'e', 'r', 'e', 's', 'e', 's', 'p', 'e', 'c', 'i', 'a', 'i', 's', 'e', 'm', 'P', 'y', 't', 'h', 'o', 'n', '.']\n"
          ]
        }
      ]
    },
    {
      "cell_type": "code",
      "source": [
        "# \\w qq caracter alfanumérico\n",
        "# \\W qq caracter que não seja alfanumérico\n",
        "\n",
        "padrao7 = re.compile(r'\\w')\n",
        "padrao8 = re.compile(r'\\W')\n",
        "verifica = padrao7.findall(texto + texto2)\n",
        "print(verifica)\n",
        "verifica = padrao8.findall(texto + texto2)\n",
        "print(verifica)"
      ],
      "metadata": {
        "id": "dsoK7Swid3H1",
        "outputId": "7ccfeb7c-a40d-4685-bdbb-8917fc565919",
        "colab": {
          "base_uri": "https://localhost:8080/"
        }
      },
      "execution_count": 41,
      "outputs": [
        {
          "output_type": "stream",
          "name": "stdout",
          "text": [
            "['H', 'o', 'j', 'e', 'é', '2', '0', 'd', 'e', 'd', 'e', 'z', 'e', 'm', 'b', 'r', 'o', 'd', 'e', '2', '0', '2', '4', 'E', 's', 't', 'o', 'u', 'a', 'p', 'e', 'n', 'a', 's', 't', 'e', 's', 't', 'a', 'n', 'd', 'o', 'o', 's', 'c', 'ó', 'd', 'i', 'g', 'o', 's', 'd', 'a', 'h', 'a', 's', 'h', 't', 'a', 'g', 'p', 'a', 'r', 'a', 't', 'r', 'e', 'i', 'n', 'a', 'r', 'u', 'm', 'p', 'o', 'u', 'c', 'o', 'd', 'e', 'P', 'y', 't', 'h', 'o', 'n', 'C', 'o', 'n', 't', 'i', 'n', 'u', 'o', 'e', 's', 'c', 'r', 'e', 'v', 'e', 'n', 'd', 'o', 'p', 'a', 'r', 'a', 'i', 'n', 'c', 'l', 'u', 'i', 'r', 'c', 'a', 'r', 'a', 'c', 't', 'e', 'r', 'e', 's', 'e', 's', 'p', 'e', 'c', 'i', 'a', 'i', 's', 'e', 'm', 'P', 'y', 't', 'h', 'o', 'n']\n",
            "[' ', ' ', ' ', ' ', ' ', ' ', '.', ' ', ' ', ' ', ' ', ' ', ' ', ' ', ' ', ' ', ' ', ' ', '.', '\\n', '\\n', ' ', ' ', ' ', ' ', '\\n', ' ', ' ', ' ', '.', '\\n']\n"
          ]
        }
      ]
    },
    {
      "cell_type": "code",
      "source": [
        "# diferença entre findall e match\n",
        "# match só localiza no início da string\n",
        "# search localiza a primeira ocorrência em toda string\n",
        "# finditer -> iterador para usar for (lista)\n",
        "\n",
        "padrao9 = re.compile(r'de')\n",
        "verifica_findall = padrao9.findall(texto)\n",
        "print(verifica_findall)\n",
        "verifica_match = padrao9.match(texto)\n",
        "print(verifica_match)\n",
        "\n",
        "padrao10 = re.compile(r'Ho')\n",
        "verifica_match = padrao10.match(texto)\n",
        "print(verifica_match)\n",
        "\n",
        "padrao11 = re.compile(r'de')\n",
        "verifica_search = padrao11.search(texto)\n",
        "print(verifica_search)\n",
        "print(texto[10:12])\n",
        "\n",
        "padrao12 = re.compile(r'de')\n",
        "verifica_finditer = padrao12.finditer(texto)\n",
        "for i in verifica_finditer:\n",
        "    print(i)"
      ],
      "metadata": {
        "id": "jadoLpZkeXL7",
        "outputId": "503ab025-38b0-44c5-e589-a870c869df5b",
        "colab": {
          "base_uri": "https://localhost:8080/"
        }
      },
      "execution_count": 49,
      "outputs": [
        {
          "output_type": "stream",
          "name": "stdout",
          "text": [
            "['de', 'de', 'de', 'de']\n",
            "None\n",
            "<re.Match object; span=(0, 2), match='Ho'>\n",
            "<re.Match object; span=(10, 12), match='de'>\n",
            "de\n",
            "<re.Match object; span=(10, 12), match='de'>\n",
            "<re.Match object; span=(13, 15), match='de'>\n",
            "<re.Match object; span=(22, 24), match='de'>\n",
            "<re.Match object; span=(95, 97), match='de'>\n"
          ]
        }
      ]
    },
    {
      "cell_type": "code",
      "source": [
        "# fechando padrão entre []\n",
        "# a-z minúsculas\n",
        "# A-Z maiúsculas\n",
        "# 0-9 números\n",
        "\n",
        "padrao13 = re.compile(r'[A-Z]')\n",
        "verifica = padrao13.finditer(texto)\n",
        "for i in verifica:\n",
        "    print(i)\n"
      ],
      "metadata": {
        "id": "dGF-9HNJfbrb",
        "outputId": "16f1eac8-7831-4af9-f11c-ed8c541eb711",
        "colab": {
          "base_uri": "https://localhost:8080/"
        }
      },
      "execution_count": 53,
      "outputs": [
        {
          "output_type": "stream",
          "name": "stdout",
          "text": [
            "<re.Match object; span=(0, 1), match='H'>\n",
            "<re.Match object; span=(30, 31), match='E'>\n",
            "<re.Match object; span=(98, 99), match='P'>\n"
          ]
        }
      ]
    },
    {
      "cell_type": "code",
      "source": [
        "# misturando padrões\n",
        "\n",
        "padrao14 = re.compile(r'[a-zA-Z] [0-9]') #letra + espaço + número\n",
        "verifica = padrao14.finditer(texto)\n",
        "for i in verifica:\n",
        "    print(i)"
      ],
      "metadata": {
        "id": "j6ZzWMUUjlSJ",
        "outputId": "1695eb28-2cd8-4838-eeb7-037ebbab1834",
        "colab": {
          "base_uri": "https://localhost:8080/"
        }
      },
      "execution_count": 59,
      "outputs": [
        {
          "output_type": "stream",
          "name": "stdout",
          "text": [
            "<re.Match object; span=(23, 26), match='e 2'>\n"
          ]
        }
      ]
    },
    {
      "cell_type": "code",
      "source": [
        "# misturando padrões\n",
        "\n",
        "padrao15 = re.compile(r'[a-zA-Z]+ [0-9]+') #letra + espaço + número / trazendo a palavra toda\n",
        "verifica = padrao15.finditer(texto)\n",
        "for i in verifica:\n",
        "    print(i)"
      ],
      "metadata": {
        "id": "Z8ro1GtHlTqZ",
        "outputId": "fe2fc0bb-4f4a-4afe-9f6e-1df2ca88bdc5",
        "colab": {
          "base_uri": "https://localhost:8080/"
        }
      },
      "execution_count": 60,
      "outputs": [
        {
          "output_type": "stream",
          "name": "stdout",
          "text": [
            "<re.Match object; span=(22, 29), match='de 2024'>\n"
          ]
        }
      ]
    },
    {
      "cell_type": "code",
      "source": [
        "# * - 0 ou mais vezes\n",
        "\n",
        "padrao16 = re.compile(r'[para]*')\n",
        "verifica = padrao16.finditer(texto)\n",
        "for i in verifica:\n",
        "    print(i)"
      ],
      "metadata": {
        "id": "VdSUtTVll4jk",
        "outputId": "47303dee-f996-48d6-c2ef-43c2c8cb4caf",
        "colab": {
          "base_uri": "https://localhost:8080/"
        }
      },
      "execution_count": 62,
      "outputs": [
        {
          "output_type": "stream",
          "name": "stdout",
          "text": [
            "<re.Match object; span=(0, 0), match=''>\n",
            "<re.Match object; span=(1, 1), match=''>\n",
            "<re.Match object; span=(2, 2), match=''>\n",
            "<re.Match object; span=(3, 3), match=''>\n",
            "<re.Match object; span=(4, 4), match=''>\n",
            "<re.Match object; span=(5, 5), match=''>\n",
            "<re.Match object; span=(6, 6), match=''>\n",
            "<re.Match object; span=(7, 7), match=''>\n",
            "<re.Match object; span=(8, 8), match=''>\n",
            "<re.Match object; span=(9, 9), match=''>\n",
            "<re.Match object; span=(10, 10), match=''>\n",
            "<re.Match object; span=(11, 11), match=''>\n",
            "<re.Match object; span=(12, 12), match=''>\n",
            "<re.Match object; span=(13, 13), match=''>\n",
            "<re.Match object; span=(14, 14), match=''>\n",
            "<re.Match object; span=(15, 15), match=''>\n",
            "<re.Match object; span=(16, 16), match=''>\n",
            "<re.Match object; span=(17, 17), match=''>\n",
            "<re.Match object; span=(18, 18), match=''>\n",
            "<re.Match object; span=(19, 20), match='r'>\n",
            "<re.Match object; span=(20, 20), match=''>\n",
            "<re.Match object; span=(21, 21), match=''>\n",
            "<re.Match object; span=(22, 22), match=''>\n",
            "<re.Match object; span=(23, 23), match=''>\n",
            "<re.Match object; span=(24, 24), match=''>\n",
            "<re.Match object; span=(25, 25), match=''>\n",
            "<re.Match object; span=(26, 26), match=''>\n",
            "<re.Match object; span=(27, 27), match=''>\n",
            "<re.Match object; span=(28, 28), match=''>\n",
            "<re.Match object; span=(29, 29), match=''>\n",
            "<re.Match object; span=(30, 30), match=''>\n",
            "<re.Match object; span=(31, 31), match=''>\n",
            "<re.Match object; span=(32, 32), match=''>\n",
            "<re.Match object; span=(33, 33), match=''>\n",
            "<re.Match object; span=(34, 34), match=''>\n",
            "<re.Match object; span=(35, 35), match=''>\n",
            "<re.Match object; span=(36, 38), match='ap'>\n",
            "<re.Match object; span=(38, 38), match=''>\n",
            "<re.Match object; span=(39, 39), match=''>\n",
            "<re.Match object; span=(40, 41), match='a'>\n",
            "<re.Match object; span=(41, 41), match=''>\n",
            "<re.Match object; span=(42, 42), match=''>\n",
            "<re.Match object; span=(43, 43), match=''>\n",
            "<re.Match object; span=(44, 44), match=''>\n",
            "<re.Match object; span=(45, 45), match=''>\n",
            "<re.Match object; span=(46, 46), match=''>\n",
            "<re.Match object; span=(47, 48), match='a'>\n",
            "<re.Match object; span=(48, 48), match=''>\n",
            "<re.Match object; span=(49, 49), match=''>\n",
            "<re.Match object; span=(50, 50), match=''>\n",
            "<re.Match object; span=(51, 51), match=''>\n",
            "<re.Match object; span=(52, 52), match=''>\n",
            "<re.Match object; span=(53, 53), match=''>\n",
            "<re.Match object; span=(54, 54), match=''>\n",
            "<re.Match object; span=(55, 55), match=''>\n",
            "<re.Match object; span=(56, 56), match=''>\n",
            "<re.Match object; span=(57, 57), match=''>\n",
            "<re.Match object; span=(58, 58), match=''>\n",
            "<re.Match object; span=(59, 59), match=''>\n",
            "<re.Match object; span=(60, 60), match=''>\n",
            "<re.Match object; span=(61, 61), match=''>\n",
            "<re.Match object; span=(62, 62), match=''>\n",
            "<re.Match object; span=(63, 63), match=''>\n",
            "<re.Match object; span=(64, 65), match='a'>\n",
            "<re.Match object; span=(65, 65), match=''>\n",
            "<re.Match object; span=(66, 66), match=''>\n",
            "<re.Match object; span=(67, 68), match='a'>\n",
            "<re.Match object; span=(68, 68), match=''>\n",
            "<re.Match object; span=(69, 69), match=''>\n",
            "<re.Match object; span=(70, 70), match=''>\n",
            "<re.Match object; span=(71, 72), match='a'>\n",
            "<re.Match object; span=(72, 72), match=''>\n",
            "<re.Match object; span=(73, 77), match='para'>\n",
            "<re.Match object; span=(77, 77), match=''>\n",
            "<re.Match object; span=(78, 78), match=''>\n",
            "<re.Match object; span=(79, 80), match='r'>\n",
            "<re.Match object; span=(80, 80), match=''>\n",
            "<re.Match object; span=(81, 81), match=''>\n",
            "<re.Match object; span=(82, 82), match=''>\n",
            "<re.Match object; span=(83, 85), match='ar'>\n",
            "<re.Match object; span=(85, 85), match=''>\n",
            "<re.Match object; span=(86, 86), match=''>\n",
            "<re.Match object; span=(87, 87), match=''>\n",
            "<re.Match object; span=(88, 88), match=''>\n",
            "<re.Match object; span=(89, 90), match='p'>\n",
            "<re.Match object; span=(90, 90), match=''>\n",
            "<re.Match object; span=(91, 91), match=''>\n",
            "<re.Match object; span=(92, 92), match=''>\n",
            "<re.Match object; span=(93, 93), match=''>\n",
            "<re.Match object; span=(94, 94), match=''>\n",
            "<re.Match object; span=(95, 95), match=''>\n",
            "<re.Match object; span=(96, 96), match=''>\n",
            "<re.Match object; span=(97, 97), match=''>\n",
            "<re.Match object; span=(98, 98), match=''>\n",
            "<re.Match object; span=(99, 99), match=''>\n",
            "<re.Match object; span=(100, 100), match=''>\n",
            "<re.Match object; span=(101, 101), match=''>\n",
            "<re.Match object; span=(102, 102), match=''>\n",
            "<re.Match object; span=(103, 103), match=''>\n",
            "<re.Match object; span=(104, 104), match=''>\n",
            "<re.Match object; span=(105, 105), match=''>\n"
          ]
        }
      ]
    },
    {
      "cell_type": "code",
      "source": [
        "# + : 1 ou mais vezes\n",
        "\n",
        "padrao17 = re.compile(r'[para]+')\n",
        "verifica = padrao17.finditer(texto)\n",
        "for i in verifica:\n",
        "    print(i)"
      ],
      "metadata": {
        "id": "UD1qWQ-pm1y1",
        "outputId": "06763aee-7085-4782-9d3b-82da31ce0d91",
        "colab": {
          "base_uri": "https://localhost:8080/"
        }
      },
      "execution_count": 63,
      "outputs": [
        {
          "output_type": "stream",
          "name": "stdout",
          "text": [
            "<re.Match object; span=(19, 20), match='r'>\n",
            "<re.Match object; span=(36, 38), match='ap'>\n",
            "<re.Match object; span=(40, 41), match='a'>\n",
            "<re.Match object; span=(47, 48), match='a'>\n",
            "<re.Match object; span=(64, 65), match='a'>\n",
            "<re.Match object; span=(67, 68), match='a'>\n",
            "<re.Match object; span=(71, 72), match='a'>\n",
            "<re.Match object; span=(73, 77), match='para'>\n",
            "<re.Match object; span=(79, 80), match='r'>\n",
            "<re.Match object; span=(83, 85), match='ar'>\n",
            "<re.Match object; span=(89, 90), match='p'>\n"
          ]
        }
      ]
    },
    {
      "cell_type": "code",
      "source": [
        "# ? : 0 ou um\n",
        "\n",
        "padrao18 = re.compile(r'[para]?')\n",
        "verifica = padrao18.finditer(texto)\n",
        "for i in verifica:\n",
        "    print(i)"
      ],
      "metadata": {
        "id": "suxs85iUnGuM",
        "outputId": "ff1d4ca5-4005-48b8-c65d-b3d997922a47",
        "colab": {
          "base_uri": "https://localhost:8080/"
        }
      },
      "execution_count": 64,
      "outputs": [
        {
          "output_type": "stream",
          "name": "stdout",
          "text": [
            "<re.Match object; span=(0, 0), match=''>\n",
            "<re.Match object; span=(1, 1), match=''>\n",
            "<re.Match object; span=(2, 2), match=''>\n",
            "<re.Match object; span=(3, 3), match=''>\n",
            "<re.Match object; span=(4, 4), match=''>\n",
            "<re.Match object; span=(5, 5), match=''>\n",
            "<re.Match object; span=(6, 6), match=''>\n",
            "<re.Match object; span=(7, 7), match=''>\n",
            "<re.Match object; span=(8, 8), match=''>\n",
            "<re.Match object; span=(9, 9), match=''>\n",
            "<re.Match object; span=(10, 10), match=''>\n",
            "<re.Match object; span=(11, 11), match=''>\n",
            "<re.Match object; span=(12, 12), match=''>\n",
            "<re.Match object; span=(13, 13), match=''>\n",
            "<re.Match object; span=(14, 14), match=''>\n",
            "<re.Match object; span=(15, 15), match=''>\n",
            "<re.Match object; span=(16, 16), match=''>\n",
            "<re.Match object; span=(17, 17), match=''>\n",
            "<re.Match object; span=(18, 18), match=''>\n",
            "<re.Match object; span=(19, 20), match='r'>\n",
            "<re.Match object; span=(20, 20), match=''>\n",
            "<re.Match object; span=(21, 21), match=''>\n",
            "<re.Match object; span=(22, 22), match=''>\n",
            "<re.Match object; span=(23, 23), match=''>\n",
            "<re.Match object; span=(24, 24), match=''>\n",
            "<re.Match object; span=(25, 25), match=''>\n",
            "<re.Match object; span=(26, 26), match=''>\n",
            "<re.Match object; span=(27, 27), match=''>\n",
            "<re.Match object; span=(28, 28), match=''>\n",
            "<re.Match object; span=(29, 29), match=''>\n",
            "<re.Match object; span=(30, 30), match=''>\n",
            "<re.Match object; span=(31, 31), match=''>\n",
            "<re.Match object; span=(32, 32), match=''>\n",
            "<re.Match object; span=(33, 33), match=''>\n",
            "<re.Match object; span=(34, 34), match=''>\n",
            "<re.Match object; span=(35, 35), match=''>\n",
            "<re.Match object; span=(36, 37), match='a'>\n",
            "<re.Match object; span=(37, 38), match='p'>\n",
            "<re.Match object; span=(38, 38), match=''>\n",
            "<re.Match object; span=(39, 39), match=''>\n",
            "<re.Match object; span=(40, 41), match='a'>\n",
            "<re.Match object; span=(41, 41), match=''>\n",
            "<re.Match object; span=(42, 42), match=''>\n",
            "<re.Match object; span=(43, 43), match=''>\n",
            "<re.Match object; span=(44, 44), match=''>\n",
            "<re.Match object; span=(45, 45), match=''>\n",
            "<re.Match object; span=(46, 46), match=''>\n",
            "<re.Match object; span=(47, 48), match='a'>\n",
            "<re.Match object; span=(48, 48), match=''>\n",
            "<re.Match object; span=(49, 49), match=''>\n",
            "<re.Match object; span=(50, 50), match=''>\n",
            "<re.Match object; span=(51, 51), match=''>\n",
            "<re.Match object; span=(52, 52), match=''>\n",
            "<re.Match object; span=(53, 53), match=''>\n",
            "<re.Match object; span=(54, 54), match=''>\n",
            "<re.Match object; span=(55, 55), match=''>\n",
            "<re.Match object; span=(56, 56), match=''>\n",
            "<re.Match object; span=(57, 57), match=''>\n",
            "<re.Match object; span=(58, 58), match=''>\n",
            "<re.Match object; span=(59, 59), match=''>\n",
            "<re.Match object; span=(60, 60), match=''>\n",
            "<re.Match object; span=(61, 61), match=''>\n",
            "<re.Match object; span=(62, 62), match=''>\n",
            "<re.Match object; span=(63, 63), match=''>\n",
            "<re.Match object; span=(64, 65), match='a'>\n",
            "<re.Match object; span=(65, 65), match=''>\n",
            "<re.Match object; span=(66, 66), match=''>\n",
            "<re.Match object; span=(67, 68), match='a'>\n",
            "<re.Match object; span=(68, 68), match=''>\n",
            "<re.Match object; span=(69, 69), match=''>\n",
            "<re.Match object; span=(70, 70), match=''>\n",
            "<re.Match object; span=(71, 72), match='a'>\n",
            "<re.Match object; span=(72, 72), match=''>\n",
            "<re.Match object; span=(73, 74), match='p'>\n",
            "<re.Match object; span=(74, 75), match='a'>\n",
            "<re.Match object; span=(75, 76), match='r'>\n",
            "<re.Match object; span=(76, 77), match='a'>\n",
            "<re.Match object; span=(77, 77), match=''>\n",
            "<re.Match object; span=(78, 78), match=''>\n",
            "<re.Match object; span=(79, 80), match='r'>\n",
            "<re.Match object; span=(80, 80), match=''>\n",
            "<re.Match object; span=(81, 81), match=''>\n",
            "<re.Match object; span=(82, 82), match=''>\n",
            "<re.Match object; span=(83, 84), match='a'>\n",
            "<re.Match object; span=(84, 85), match='r'>\n",
            "<re.Match object; span=(85, 85), match=''>\n",
            "<re.Match object; span=(86, 86), match=''>\n",
            "<re.Match object; span=(87, 87), match=''>\n",
            "<re.Match object; span=(88, 88), match=''>\n",
            "<re.Match object; span=(89, 90), match='p'>\n",
            "<re.Match object; span=(90, 90), match=''>\n",
            "<re.Match object; span=(91, 91), match=''>\n",
            "<re.Match object; span=(92, 92), match=''>\n",
            "<re.Match object; span=(93, 93), match=''>\n",
            "<re.Match object; span=(94, 94), match=''>\n",
            "<re.Match object; span=(95, 95), match=''>\n",
            "<re.Match object; span=(96, 96), match=''>\n",
            "<re.Match object; span=(97, 97), match=''>\n",
            "<re.Match object; span=(98, 98), match=''>\n",
            "<re.Match object; span=(99, 99), match=''>\n",
            "<re.Match object; span=(100, 100), match=''>\n",
            "<re.Match object; span=(101, 101), match=''>\n",
            "<re.Match object; span=(102, 102), match=''>\n",
            "<re.Match object; span=(103, 103), match=''>\n",
            "<re.Match object; span=(104, 104), match=''>\n",
            "<re.Match object; span=(105, 105), match=''>\n"
          ]
        }
      ]
    },
    {
      "cell_type": "code",
      "source": [
        "# número exato de vezes\n",
        "\n",
        "padrao19 = re.compile(r'[para]{4}')\n",
        "verifica = padrao19.finditer(texto)\n",
        "for i in verifica:\n",
        "    print(i)\n",
        "\n",
        "print()\n",
        "\n",
        "# número mín e max\n",
        "padrao20 = re.compile(r'[para]{2,4}')\n",
        "verifica = padrao20.finditer(texto)\n",
        "for i in verifica:\n",
        "    print(i)"
      ],
      "metadata": {
        "id": "wmSv4ckOnjxl",
        "outputId": "c72a0d96-11d0-42fb-8753-cad530f59fce",
        "colab": {
          "base_uri": "https://localhost:8080/"
        }
      },
      "execution_count": 69,
      "outputs": [
        {
          "output_type": "stream",
          "name": "stdout",
          "text": [
            "<re.Match object; span=(73, 77), match='para'>\n",
            "\n",
            "<re.Match object; span=(36, 38), match='ap'>\n",
            "<re.Match object; span=(73, 77), match='para'>\n",
            "<re.Match object; span=(83, 85), match='ar'>\n"
          ]
        }
      ]
    },
    {
      "cell_type": "code",
      "source": [
        "# grupos\n",
        "\n",
        "padrao21 = re.compile(r'(C|c)?[a-z]{7} [0-9]+')\n",
        "verifica = padrao21.finditer(texto2)\n",
        "for i in verifica:\n",
        "    print(i)\n",
        "    print(i.group(1))"
      ],
      "metadata": {
        "id": "MO8KOcxJpQEd",
        "outputId": "0c02a983-764d-4080-dc08-a581fe4f7032",
        "colab": {
          "base_uri": "https://localhost:8080/"
        }
      },
      "execution_count": 86,
      "outputs": [
        {
          "output_type": "stream",
          "name": "stdout",
          "text": [
            "<re.Match object; span=(3, 15), match='Continuo 322'>\n",
            "C\n",
            "<re.Match object; span=(40, 53), match='caracter 5499'>\n",
            "c\n"
          ]
        }
      ]
    },
    {
      "cell_type": "code",
      "source": [
        "# buscar sites na string\n",
        "\n",
        "padrao22 = re.compile(r'https?://(www\\.)?([a-zA-Z0-9]+\\.)+(com.br|gov.br|com)')\n",
        "verifica = padrao22.finditer(texto2)\n",
        "for i in verifica:\n",
        "    print(i)"
      ],
      "metadata": {
        "id": "AykhQCA8rssW",
        "outputId": "9014883e-8556-40d7-e952-4cf669e20bf6",
        "colab": {
          "base_uri": "https://localhost:8080/"
        }
      },
      "execution_count": 92,
      "outputs": [
        {
          "output_type": "stream",
          "name": "stdout",
          "text": [
            "<re.Match object; span=(90, 107), match='http://google.com'>\n",
            "<re.Match object; span=(109, 135), match='https://www.youtube.com.br'>\n",
            "<re.Match object; span=(137, 172), match='https://www.hashtagtreinamentos.com'>\n",
            "<re.Match object; span=(174, 192), match='https://www.gov.br'>\n",
            "<re.Match object; span=(194, 222), match='https://www.faetec.rj.gov.br'>\n"
          ]
        }
      ]
    }
  ],
  "metadata": {
    "language_info": {
      "name": "python"
    },
    "colab": {
      "provenance": []
    },
    "kernelspec": {
      "name": "python3",
      "display_name": "Python 3"
    }
  },
  "nbformat": 4,
  "nbformat_minor": 0
}