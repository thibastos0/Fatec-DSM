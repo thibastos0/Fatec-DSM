{
  "cells": [
    {
      "cell_type": "code",
      "execution_count": 93,
      "metadata": {
        "vscode": {
          "languageId": "plaintext"
        },
        "id": "LKFfrwvUTDBI"
      },
      "outputs": [],
      "source": [
        "import re"
      ]
    },
    {
      "cell_type": "code",
      "execution_count": 94,
      "metadata": {
        "vscode": {
          "languageId": "plaintext"
        },
        "colab": {
          "base_uri": "https://localhost:8080/"
        },
        "id": "8Q9dq-miTDBJ",
        "outputId": "e45cff07-5f22-4ed9-fb39-c928f7dba230"
      },
      "outputs": [
        {
          "output_type": "stream",
          "name": "stdout",
          "text": [
            "['test']\n"
          ]
        }
      ],
      "source": [
        "texto = \"Hoje é 20 de dezembro de 2024.\" \\\n",
        "\"Estou apenas testando os códigos da hashtag\" \\\n",
        "\"para treinar um pouco de Python.\"\n",
        "texto2 = '''\n",
        "\\n Continuo 322 escrevendo para incluir\n",
        "caracter 5499 especial em Python.\n",
        "Sites diversos:\n",
        "http://google.com/\n",
        "https://www.youtube.com.br/\n",
        "https://www.hashtagtreinamentos.com/\n",
        "https://www.gov.br/\n",
        "https://www.faetec.rj.gov.br/\n",
        "'''\n",
        "padrao = re.compile('te.t')\n",
        "verificar = re.findall(padrao, texto)\n",
        "print(verificar)"
      ]
    },
    {
      "cell_type": "code",
      "source": [
        "# ^ para localizar primeira ocorrência na string. Busca por qualquer string que inicie com o padrão definido\n",
        "# [^] exceção\n",
        "padrao1 = re.compile('^Ho')\n",
        "padrao2 = re.compile('[^a]')\n",
        "verificar = padrao1.findall(texto)\n",
        "print(verificar)\n",
        "verificar = padrao2.findall(texto)\n",
        "print(verificar)"
      ],
      "metadata": {
        "colab": {
          "base_uri": "https://localhost:8080/"
        },
        "id": "fu5TSkgWWgSi",
        "outputId": "29207165-4409-4c74-c644-497fd453924d"
      },
      "execution_count": 95,
      "outputs": [
        {
          "output_type": "stream",
          "name": "stdout",
          "text": [
            "['Ho']\n",
            "['H', 'o', 'j', 'e', ' ', 'é', ' ', '2', '0', ' ', 'd', 'e', ' ', 'd', 'e', 'z', 'e', 'm', 'b', 'r', 'o', ' ', 'd', 'e', ' ', '2', '0', '2', '4', '.', 'E', 's', 't', 'o', 'u', ' ', 'p', 'e', 'n', 's', ' ', 't', 'e', 's', 't', 'n', 'd', 'o', ' ', 'o', 's', ' ', 'c', 'ó', 'd', 'i', 'g', 'o', 's', ' ', 'd', ' ', 'h', 's', 'h', 't', 'g', 'p', 'r', ' ', 't', 'r', 'e', 'i', 'n', 'r', ' ', 'u', 'm', ' ', 'p', 'o', 'u', 'c', 'o', ' ', 'd', 'e', ' ', 'P', 'y', 't', 'h', 'o', 'n', '.']\n"
          ]
        }
      ]
    },
    {
      "cell_type": "code",
      "source": [
        "# \\d qq de 0 a 9\n",
        "# \\D exceto 0 a 9\n",
        "padrao3 = re.compile(r'\\d')\n",
        "padrao4 = re.compile(r'\\D')\n",
        "verificar = padrao3.findall(texto)\n",
        "print(verificar)\n",
        "verificar = padrao4.findall(texto)\n",
        "print(verificar)\n"
      ],
      "metadata": {
        "colab": {
          "base_uri": "https://localhost:8080/"
        },
        "id": "15GTSOQ4YCRj",
        "outputId": "066084b4-b3e8-45bb-855b-dba37611676c"
      },
      "execution_count": 96,
      "outputs": [
        {
          "output_type": "stream",
          "name": "stdout",
          "text": [
            "['2', '0', '2', '0', '2', '4']\n",
            "['H', 'o', 'j', 'e', ' ', 'é', ' ', ' ', 'd', 'e', ' ', 'd', 'e', 'z', 'e', 'm', 'b', 'r', 'o', ' ', 'd', 'e', ' ', '.', 'E', 's', 't', 'o', 'u', ' ', 'a', 'p', 'e', 'n', 'a', 's', ' ', 't', 'e', 's', 't', 'a', 'n', 'd', 'o', ' ', 'o', 's', ' ', 'c', 'ó', 'd', 'i', 'g', 'o', 's', ' ', 'd', 'a', ' ', 'h', 'a', 's', 'h', 't', 'a', 'g', 'p', 'a', 'r', 'a', ' ', 't', 'r', 'e', 'i', 'n', 'a', 'r', ' ', 'u', 'm', ' ', 'p', 'o', 'u', 'c', 'o', ' ', 'd', 'e', ' ', 'P', 'y', 't', 'h', 'o', 'n', '.']\n"
          ]
        }
      ]
    },
    {
      "cell_type": "code",
      "source": [
        "# \\s qq caracter que seja vazio\n",
        "# \\S qq caracter que não seja vazio\n",
        "\n",
        "padrao5 = re.compile(r'\\s')\n",
        "padrao6 = re.compile(r'\\S')\n",
        "verificar = padrao5.findall(texto + texto2)\n",
        "print(verificar)\n",
        "verificar = padrao6.findall(texto + texto2)\n",
        "print(verificar)"
      ],
      "metadata": {
        "colab": {
          "base_uri": "https://localhost:8080/"
        },
        "id": "9NtBCQB_dQr_",
        "outputId": "98071835-c7e3-4d88-cacb-a022b8223414"
      },
      "execution_count": 97,
      "outputs": [
        {
          "output_type": "stream",
          "name": "stdout",
          "text": [
            "[' ', ' ', ' ', ' ', ' ', ' ', ' ', ' ', ' ', ' ', ' ', ' ', ' ', ' ', ' ', ' ', ' ', '\\n', '\\n', ' ', ' ', ' ', ' ', ' ', '\\n', ' ', ' ', ' ', ' ', '\\n', ' ', '\\n', '\\n', '\\n', '\\n', '\\n', '\\n']\n",
            "['H', 'o', 'j', 'e', 'é', '2', '0', 'd', 'e', 'd', 'e', 'z', 'e', 'm', 'b', 'r', 'o', 'd', 'e', '2', '0', '2', '4', '.', 'E', 's', 't', 'o', 'u', 'a', 'p', 'e', 'n', 'a', 's', 't', 'e', 's', 't', 'a', 'n', 'd', 'o', 'o', 's', 'c', 'ó', 'd', 'i', 'g', 'o', 's', 'd', 'a', 'h', 'a', 's', 'h', 't', 'a', 'g', 'p', 'a', 'r', 'a', 't', 'r', 'e', 'i', 'n', 'a', 'r', 'u', 'm', 'p', 'o', 'u', 'c', 'o', 'd', 'e', 'P', 'y', 't', 'h', 'o', 'n', '.', 'C', 'o', 'n', 't', 'i', 'n', 'u', 'o', '3', '2', '2', 'e', 's', 'c', 'r', 'e', 'v', 'e', 'n', 'd', 'o', 'p', 'a', 'r', 'a', 'i', 'n', 'c', 'l', 'u', 'i', 'r', 'c', 'a', 'r', 'a', 'c', 't', 'e', 'r', '5', '4', '9', '9', 'e', 's', 'p', 'e', 'c', 'i', 'a', 'l', 'e', 'm', 'P', 'y', 't', 'h', 'o', 'n', '.', 'S', 'i', 't', 'e', 's', 'd', 'i', 'v', 'e', 'r', 's', 'o', 's', ':', 'h', 't', 't', 'p', ':', '/', '/', 'g', 'o', 'o', 'g', 'l', 'e', '.', 'c', 'o', 'm', '/', 'h', 't', 't', 'p', 's', ':', '/', '/', 'w', 'w', 'w', '.', 'y', 'o', 'u', 't', 'u', 'b', 'e', '.', 'c', 'o', 'm', '.', 'b', 'r', '/', 'h', 't', 't', 'p', 's', ':', '/', '/', 'w', 'w', 'w', '.', 'h', 'a', 's', 'h', 't', 'a', 'g', 't', 'r', 'e', 'i', 'n', 'a', 'm', 'e', 'n', 't', 'o', 's', '.', 'c', 'o', 'm', '/', 'h', 't', 't', 'p', 's', ':', '/', '/', 'w', 'w', 'w', '.', 'g', 'o', 'v', '.', 'b', 'r', '/', 'h', 't', 't', 'p', 's', ':', '/', '/', 'w', 'w', 'w', '.', 'f', 'a', 'e', 't', 'e', 'c', '.', 'r', 'j', '.', 'g', 'o', 'v', '.', 'b', 'r', '/']\n"
          ]
        }
      ]
    },
    {
      "cell_type": "code",
      "source": [
        "# \\w qq caracter alfanumérico\n",
        "# \\W qq caracter que não seja alfanumérico\n",
        "\n",
        "padrao7 = re.compile(r'\\w')\n",
        "padrao8 = re.compile(r'\\W')\n",
        "verifica = padrao7.findall(texto + texto2)\n",
        "print(verifica)\n",
        "verifica = padrao8.findall(texto + texto2)\n",
        "print(verifica)"
      ],
      "metadata": {
        "colab": {
          "base_uri": "https://localhost:8080/"
        },
        "id": "dsoK7Swid3H1",
        "outputId": "a7d7286f-603f-4a1e-c9c7-7da9388e8656"
      },
      "execution_count": 98,
      "outputs": [
        {
          "output_type": "stream",
          "name": "stdout",
          "text": [
            "['H', 'o', 'j', 'e', 'é', '2', '0', 'd', 'e', 'd', 'e', 'z', 'e', 'm', 'b', 'r', 'o', 'd', 'e', '2', '0', '2', '4', 'E', 's', 't', 'o', 'u', 'a', 'p', 'e', 'n', 'a', 's', 't', 'e', 's', 't', 'a', 'n', 'd', 'o', 'o', 's', 'c', 'ó', 'd', 'i', 'g', 'o', 's', 'd', 'a', 'h', 'a', 's', 'h', 't', 'a', 'g', 'p', 'a', 'r', 'a', 't', 'r', 'e', 'i', 'n', 'a', 'r', 'u', 'm', 'p', 'o', 'u', 'c', 'o', 'd', 'e', 'P', 'y', 't', 'h', 'o', 'n', 'C', 'o', 'n', 't', 'i', 'n', 'u', 'o', '3', '2', '2', 'e', 's', 'c', 'r', 'e', 'v', 'e', 'n', 'd', 'o', 'p', 'a', 'r', 'a', 'i', 'n', 'c', 'l', 'u', 'i', 'r', 'c', 'a', 'r', 'a', 'c', 't', 'e', 'r', '5', '4', '9', '9', 'e', 's', 'p', 'e', 'c', 'i', 'a', 'l', 'e', 'm', 'P', 'y', 't', 'h', 'o', 'n', 'S', 'i', 't', 'e', 's', 'd', 'i', 'v', 'e', 'r', 's', 'o', 's', 'h', 't', 't', 'p', 'g', 'o', 'o', 'g', 'l', 'e', 'c', 'o', 'm', 'h', 't', 't', 'p', 's', 'w', 'w', 'w', 'y', 'o', 'u', 't', 'u', 'b', 'e', 'c', 'o', 'm', 'b', 'r', 'h', 't', 't', 'p', 's', 'w', 'w', 'w', 'h', 'a', 's', 'h', 't', 'a', 'g', 't', 'r', 'e', 'i', 'n', 'a', 'm', 'e', 'n', 't', 'o', 's', 'c', 'o', 'm', 'h', 't', 't', 'p', 's', 'w', 'w', 'w', 'g', 'o', 'v', 'b', 'r', 'h', 't', 't', 'p', 's', 'w', 'w', 'w', 'f', 'a', 'e', 't', 'e', 'c', 'r', 'j', 'g', 'o', 'v', 'b', 'r']\n",
            "[' ', ' ', ' ', ' ', ' ', ' ', '.', ' ', ' ', ' ', ' ', ' ', ' ', ' ', ' ', ' ', ' ', ' ', '.', '\\n', '\\n', ' ', ' ', ' ', ' ', ' ', '\\n', ' ', ' ', ' ', ' ', '.', '\\n', ' ', ':', '\\n', ':', '/', '/', '.', '/', '\\n', ':', '/', '/', '.', '.', '.', '/', '\\n', ':', '/', '/', '.', '.', '/', '\\n', ':', '/', '/', '.', '.', '/', '\\n', ':', '/', '/', '.', '.', '.', '.', '/', '\\n']\n"
          ]
        }
      ]
    },
    {
      "cell_type": "code",
      "source": [
        "# diferença entre findall e match\n",
        "# match só localiza no início da string\n",
        "# search localiza a primeira ocorrência em toda string\n",
        "# finditer -> iterador para usar for (lista)\n",
        "\n",
        "padrao9 = re.compile(r'de')\n",
        "verifica_findall = padrao9.findall(texto)\n",
        "print(verifica_findall)\n",
        "verifica_match = padrao9.match(texto)\n",
        "print(verifica_match)\n",
        "\n",
        "padrao10 = re.compile(r'Ho')\n",
        "verifica_match = padrao10.match(texto)\n",
        "print(verifica_match)\n",
        "\n",
        "padrao11 = re.compile(r'de')\n",
        "verifica_search = padrao11.search(texto)\n",
        "print(verifica_search)\n",
        "print(texto[10:12])\n",
        "\n",
        "padrao12 = re.compile(r'de')\n",
        "verifica_finditer = padrao12.finditer(texto)\n",
        "for i in verifica_finditer:\n",
        "    print(i)"
      ],
      "metadata": {
        "colab": {
          "base_uri": "https://localhost:8080/"
        },
        "id": "jadoLpZkeXL7",
        "outputId": "ed367217-07e5-459c-efd3-8cf85d0105ff"
      },
      "execution_count": 99,
      "outputs": [
        {
          "output_type": "stream",
          "name": "stdout",
          "text": [
            "['de', 'de', 'de', 'de']\n",
            "None\n",
            "<re.Match object; span=(0, 2), match='Ho'>\n",
            "<re.Match object; span=(10, 12), match='de'>\n",
            "de\n",
            "<re.Match object; span=(10, 12), match='de'>\n",
            "<re.Match object; span=(13, 15), match='de'>\n",
            "<re.Match object; span=(22, 24), match='de'>\n",
            "<re.Match object; span=(95, 97), match='de'>\n"
          ]
        }
      ]
    },
    {
      "cell_type": "code",
      "source": [
        "# fechando padrão entre []\n",
        "# a-z minúsculas\n",
        "# A-Z maiúsculas\n",
        "# 0-9 números\n",
        "\n",
        "padrao13 = re.compile(r'[A-Z]')\n",
        "verifica = padrao13.finditer(texto)\n",
        "for i in verifica:\n",
        "    print(i)\n"
      ],
      "metadata": {
        "colab": {
          "base_uri": "https://localhost:8080/"
        },
        "id": "dGF-9HNJfbrb",
        "outputId": "86b4887a-6121-41e8-f56f-bdc331445fc5"
      },
      "execution_count": 100,
      "outputs": [
        {
          "output_type": "stream",
          "name": "stdout",
          "text": [
            "<re.Match object; span=(0, 1), match='H'>\n",
            "<re.Match object; span=(30, 31), match='E'>\n",
            "<re.Match object; span=(98, 99), match='P'>\n"
          ]
        }
      ]
    },
    {
      "cell_type": "code",
      "source": [
        "# misturando padrões\n",
        "\n",
        "padrao14 = re.compile(r'[a-zA-Z] [0-9]') #letra + espaço + número\n",
        "verifica = padrao14.finditer(texto)\n",
        "for i in verifica:\n",
        "    print(i)"
      ],
      "metadata": {
        "colab": {
          "base_uri": "https://localhost:8080/"
        },
        "id": "j6ZzWMUUjlSJ",
        "outputId": "93bb0001-1834-4552-a1d7-e0d38fe9d828"
      },
      "execution_count": 101,
      "outputs": [
        {
          "output_type": "stream",
          "name": "stdout",
          "text": [
            "<re.Match object; span=(23, 26), match='e 2'>\n"
          ]
        }
      ]
    },
    {
      "cell_type": "code",
      "source": [
        "# misturando padrões\n",
        "\n",
        "padrao15 = re.compile(r'[a-zA-Z]+ [0-9]+') #letra + espaço + número / trazendo a palavra toda\n",
        "verifica = padrao15.finditer(texto)\n",
        "for i in verifica:\n",
        "    print(i)"
      ],
      "metadata": {
        "colab": {
          "base_uri": "https://localhost:8080/"
        },
        "id": "Z8ro1GtHlTqZ",
        "outputId": "c3e8fce7-f605-40d3-cfc7-9fc40c55ce41"
      },
      "execution_count": 102,
      "outputs": [
        {
          "output_type": "stream",
          "name": "stdout",
          "text": [
            "<re.Match object; span=(22, 29), match='de 2024'>\n"
          ]
        }
      ]
    },
    {
      "cell_type": "code",
      "source": [
        "# * - 0 ou mais vezes\n",
        "\n",
        "padrao16 = re.compile(r'[para]*')\n",
        "verifica = padrao16.finditer(texto)\n",
        "for i in verifica:\n",
        "    print(i)"
      ],
      "metadata": {
        "colab": {
          "base_uri": "https://localhost:8080/"
        },
        "id": "VdSUtTVll4jk",
        "outputId": "3ffc52fb-930c-4d61-fb3e-92611eec3489"
      },
      "execution_count": 103,
      "outputs": [
        {
          "output_type": "stream",
          "name": "stdout",
          "text": [
            "<re.Match object; span=(0, 0), match=''>\n",
            "<re.Match object; span=(1, 1), match=''>\n",
            "<re.Match object; span=(2, 2), match=''>\n",
            "<re.Match object; span=(3, 3), match=''>\n",
            "<re.Match object; span=(4, 4), match=''>\n",
            "<re.Match object; span=(5, 5), match=''>\n",
            "<re.Match object; span=(6, 6), match=''>\n",
            "<re.Match object; span=(7, 7), match=''>\n",
            "<re.Match object; span=(8, 8), match=''>\n",
            "<re.Match object; span=(9, 9), match=''>\n",
            "<re.Match object; span=(10, 10), match=''>\n",
            "<re.Match object; span=(11, 11), match=''>\n",
            "<re.Match object; span=(12, 12), match=''>\n",
            "<re.Match object; span=(13, 13), match=''>\n",
            "<re.Match object; span=(14, 14), match=''>\n",
            "<re.Match object; span=(15, 15), match=''>\n",
            "<re.Match object; span=(16, 16), match=''>\n",
            "<re.Match object; span=(17, 17), match=''>\n",
            "<re.Match object; span=(18, 18), match=''>\n",
            "<re.Match object; span=(19, 20), match='r'>\n",
            "<re.Match object; span=(20, 20), match=''>\n",
            "<re.Match object; span=(21, 21), match=''>\n",
            "<re.Match object; span=(22, 22), match=''>\n",
            "<re.Match object; span=(23, 23), match=''>\n",
            "<re.Match object; span=(24, 24), match=''>\n",
            "<re.Match object; span=(25, 25), match=''>\n",
            "<re.Match object; span=(26, 26), match=''>\n",
            "<re.Match object; span=(27, 27), match=''>\n",
            "<re.Match object; span=(28, 28), match=''>\n",
            "<re.Match object; span=(29, 29), match=''>\n",
            "<re.Match object; span=(30, 30), match=''>\n",
            "<re.Match object; span=(31, 31), match=''>\n",
            "<re.Match object; span=(32, 32), match=''>\n",
            "<re.Match object; span=(33, 33), match=''>\n",
            "<re.Match object; span=(34, 34), match=''>\n",
            "<re.Match object; span=(35, 35), match=''>\n",
            "<re.Match object; span=(36, 38), match='ap'>\n",
            "<re.Match object; span=(38, 38), match=''>\n",
            "<re.Match object; span=(39, 39), match=''>\n",
            "<re.Match object; span=(40, 41), match='a'>\n",
            "<re.Match object; span=(41, 41), match=''>\n",
            "<re.Match object; span=(42, 42), match=''>\n",
            "<re.Match object; span=(43, 43), match=''>\n",
            "<re.Match object; span=(44, 44), match=''>\n",
            "<re.Match object; span=(45, 45), match=''>\n",
            "<re.Match object; span=(46, 46), match=''>\n",
            "<re.Match object; span=(47, 48), match='a'>\n",
            "<re.Match object; span=(48, 48), match=''>\n",
            "<re.Match object; span=(49, 49), match=''>\n",
            "<re.Match object; span=(50, 50), match=''>\n",
            "<re.Match object; span=(51, 51), match=''>\n",
            "<re.Match object; span=(52, 52), match=''>\n",
            "<re.Match object; span=(53, 53), match=''>\n",
            "<re.Match object; span=(54, 54), match=''>\n",
            "<re.Match object; span=(55, 55), match=''>\n",
            "<re.Match object; span=(56, 56), match=''>\n",
            "<re.Match object; span=(57, 57), match=''>\n",
            "<re.Match object; span=(58, 58), match=''>\n",
            "<re.Match object; span=(59, 59), match=''>\n",
            "<re.Match object; span=(60, 60), match=''>\n",
            "<re.Match object; span=(61, 61), match=''>\n",
            "<re.Match object; span=(62, 62), match=''>\n",
            "<re.Match object; span=(63, 63), match=''>\n",
            "<re.Match object; span=(64, 65), match='a'>\n",
            "<re.Match object; span=(65, 65), match=''>\n",
            "<re.Match object; span=(66, 66), match=''>\n",
            "<re.Match object; span=(67, 68), match='a'>\n",
            "<re.Match object; span=(68, 68), match=''>\n",
            "<re.Match object; span=(69, 69), match=''>\n",
            "<re.Match object; span=(70, 70), match=''>\n",
            "<re.Match object; span=(71, 72), match='a'>\n",
            "<re.Match object; span=(72, 72), match=''>\n",
            "<re.Match object; span=(73, 77), match='para'>\n",
            "<re.Match object; span=(77, 77), match=''>\n",
            "<re.Match object; span=(78, 78), match=''>\n",
            "<re.Match object; span=(79, 80), match='r'>\n",
            "<re.Match object; span=(80, 80), match=''>\n",
            "<re.Match object; span=(81, 81), match=''>\n",
            "<re.Match object; span=(82, 82), match=''>\n",
            "<re.Match object; span=(83, 85), match='ar'>\n",
            "<re.Match object; span=(85, 85), match=''>\n",
            "<re.Match object; span=(86, 86), match=''>\n",
            "<re.Match object; span=(87, 87), match=''>\n",
            "<re.Match object; span=(88, 88), match=''>\n",
            "<re.Match object; span=(89, 90), match='p'>\n",
            "<re.Match object; span=(90, 90), match=''>\n",
            "<re.Match object; span=(91, 91), match=''>\n",
            "<re.Match object; span=(92, 92), match=''>\n",
            "<re.Match object; span=(93, 93), match=''>\n",
            "<re.Match object; span=(94, 94), match=''>\n",
            "<re.Match object; span=(95, 95), match=''>\n",
            "<re.Match object; span=(96, 96), match=''>\n",
            "<re.Match object; span=(97, 97), match=''>\n",
            "<re.Match object; span=(98, 98), match=''>\n",
            "<re.Match object; span=(99, 99), match=''>\n",
            "<re.Match object; span=(100, 100), match=''>\n",
            "<re.Match object; span=(101, 101), match=''>\n",
            "<re.Match object; span=(102, 102), match=''>\n",
            "<re.Match object; span=(103, 103), match=''>\n",
            "<re.Match object; span=(104, 104), match=''>\n",
            "<re.Match object; span=(105, 105), match=''>\n"
          ]
        }
      ]
    },
    {
      "cell_type": "code",
      "source": [
        "# + : 1 ou mais vezes\n",
        "\n",
        "padrao17 = re.compile(r'[para]+')\n",
        "verifica = padrao17.finditer(texto)\n",
        "for i in verifica:\n",
        "    print(i)"
      ],
      "metadata": {
        "colab": {
          "base_uri": "https://localhost:8080/"
        },
        "id": "UD1qWQ-pm1y1",
        "outputId": "c0c611f1-096c-43ca-a518-96ed7a6bd2cb"
      },
      "execution_count": 104,
      "outputs": [
        {
          "output_type": "stream",
          "name": "stdout",
          "text": [
            "<re.Match object; span=(19, 20), match='r'>\n",
            "<re.Match object; span=(36, 38), match='ap'>\n",
            "<re.Match object; span=(40, 41), match='a'>\n",
            "<re.Match object; span=(47, 48), match='a'>\n",
            "<re.Match object; span=(64, 65), match='a'>\n",
            "<re.Match object; span=(67, 68), match='a'>\n",
            "<re.Match object; span=(71, 72), match='a'>\n",
            "<re.Match object; span=(73, 77), match='para'>\n",
            "<re.Match object; span=(79, 80), match='r'>\n",
            "<re.Match object; span=(83, 85), match='ar'>\n",
            "<re.Match object; span=(89, 90), match='p'>\n"
          ]
        }
      ]
    },
    {
      "cell_type": "code",
      "source": [
        "# ? : 0 ou um\n",
        "\n",
        "padrao18 = re.compile(r'[para]?')\n",
        "verifica = padrao18.finditer(texto)\n",
        "for i in verifica:\n",
        "    print(i)"
      ],
      "metadata": {
        "colab": {
          "base_uri": "https://localhost:8080/"
        },
        "id": "suxs85iUnGuM",
        "outputId": "262c4ca2-ee3a-4640-a56d-07a919f8233a"
      },
      "execution_count": 105,
      "outputs": [
        {
          "output_type": "stream",
          "name": "stdout",
          "text": [
            "<re.Match object; span=(0, 0), match=''>\n",
            "<re.Match object; span=(1, 1), match=''>\n",
            "<re.Match object; span=(2, 2), match=''>\n",
            "<re.Match object; span=(3, 3), match=''>\n",
            "<re.Match object; span=(4, 4), match=''>\n",
            "<re.Match object; span=(5, 5), match=''>\n",
            "<re.Match object; span=(6, 6), match=''>\n",
            "<re.Match object; span=(7, 7), match=''>\n",
            "<re.Match object; span=(8, 8), match=''>\n",
            "<re.Match object; span=(9, 9), match=''>\n",
            "<re.Match object; span=(10, 10), match=''>\n",
            "<re.Match object; span=(11, 11), match=''>\n",
            "<re.Match object; span=(12, 12), match=''>\n",
            "<re.Match object; span=(13, 13), match=''>\n",
            "<re.Match object; span=(14, 14), match=''>\n",
            "<re.Match object; span=(15, 15), match=''>\n",
            "<re.Match object; span=(16, 16), match=''>\n",
            "<re.Match object; span=(17, 17), match=''>\n",
            "<re.Match object; span=(18, 18), match=''>\n",
            "<re.Match object; span=(19, 20), match='r'>\n",
            "<re.Match object; span=(20, 20), match=''>\n",
            "<re.Match object; span=(21, 21), match=''>\n",
            "<re.Match object; span=(22, 22), match=''>\n",
            "<re.Match object; span=(23, 23), match=''>\n",
            "<re.Match object; span=(24, 24), match=''>\n",
            "<re.Match object; span=(25, 25), match=''>\n",
            "<re.Match object; span=(26, 26), match=''>\n",
            "<re.Match object; span=(27, 27), match=''>\n",
            "<re.Match object; span=(28, 28), match=''>\n",
            "<re.Match object; span=(29, 29), match=''>\n",
            "<re.Match object; span=(30, 30), match=''>\n",
            "<re.Match object; span=(31, 31), match=''>\n",
            "<re.Match object; span=(32, 32), match=''>\n",
            "<re.Match object; span=(33, 33), match=''>\n",
            "<re.Match object; span=(34, 34), match=''>\n",
            "<re.Match object; span=(35, 35), match=''>\n",
            "<re.Match object; span=(36, 37), match='a'>\n",
            "<re.Match object; span=(37, 38), match='p'>\n",
            "<re.Match object; span=(38, 38), match=''>\n",
            "<re.Match object; span=(39, 39), match=''>\n",
            "<re.Match object; span=(40, 41), match='a'>\n",
            "<re.Match object; span=(41, 41), match=''>\n",
            "<re.Match object; span=(42, 42), match=''>\n",
            "<re.Match object; span=(43, 43), match=''>\n",
            "<re.Match object; span=(44, 44), match=''>\n",
            "<re.Match object; span=(45, 45), match=''>\n",
            "<re.Match object; span=(46, 46), match=''>\n",
            "<re.Match object; span=(47, 48), match='a'>\n",
            "<re.Match object; span=(48, 48), match=''>\n",
            "<re.Match object; span=(49, 49), match=''>\n",
            "<re.Match object; span=(50, 50), match=''>\n",
            "<re.Match object; span=(51, 51), match=''>\n",
            "<re.Match object; span=(52, 52), match=''>\n",
            "<re.Match object; span=(53, 53), match=''>\n",
            "<re.Match object; span=(54, 54), match=''>\n",
            "<re.Match object; span=(55, 55), match=''>\n",
            "<re.Match object; span=(56, 56), match=''>\n",
            "<re.Match object; span=(57, 57), match=''>\n",
            "<re.Match object; span=(58, 58), match=''>\n",
            "<re.Match object; span=(59, 59), match=''>\n",
            "<re.Match object; span=(60, 60), match=''>\n",
            "<re.Match object; span=(61, 61), match=''>\n",
            "<re.Match object; span=(62, 62), match=''>\n",
            "<re.Match object; span=(63, 63), match=''>\n",
            "<re.Match object; span=(64, 65), match='a'>\n",
            "<re.Match object; span=(65, 65), match=''>\n",
            "<re.Match object; span=(66, 66), match=''>\n",
            "<re.Match object; span=(67, 68), match='a'>\n",
            "<re.Match object; span=(68, 68), match=''>\n",
            "<re.Match object; span=(69, 69), match=''>\n",
            "<re.Match object; span=(70, 70), match=''>\n",
            "<re.Match object; span=(71, 72), match='a'>\n",
            "<re.Match object; span=(72, 72), match=''>\n",
            "<re.Match object; span=(73, 74), match='p'>\n",
            "<re.Match object; span=(74, 75), match='a'>\n",
            "<re.Match object; span=(75, 76), match='r'>\n",
            "<re.Match object; span=(76, 77), match='a'>\n",
            "<re.Match object; span=(77, 77), match=''>\n",
            "<re.Match object; span=(78, 78), match=''>\n",
            "<re.Match object; span=(79, 80), match='r'>\n",
            "<re.Match object; span=(80, 80), match=''>\n",
            "<re.Match object; span=(81, 81), match=''>\n",
            "<re.Match object; span=(82, 82), match=''>\n",
            "<re.Match object; span=(83, 84), match='a'>\n",
            "<re.Match object; span=(84, 85), match='r'>\n",
            "<re.Match object; span=(85, 85), match=''>\n",
            "<re.Match object; span=(86, 86), match=''>\n",
            "<re.Match object; span=(87, 87), match=''>\n",
            "<re.Match object; span=(88, 88), match=''>\n",
            "<re.Match object; span=(89, 90), match='p'>\n",
            "<re.Match object; span=(90, 90), match=''>\n",
            "<re.Match object; span=(91, 91), match=''>\n",
            "<re.Match object; span=(92, 92), match=''>\n",
            "<re.Match object; span=(93, 93), match=''>\n",
            "<re.Match object; span=(94, 94), match=''>\n",
            "<re.Match object; span=(95, 95), match=''>\n",
            "<re.Match object; span=(96, 96), match=''>\n",
            "<re.Match object; span=(97, 97), match=''>\n",
            "<re.Match object; span=(98, 98), match=''>\n",
            "<re.Match object; span=(99, 99), match=''>\n",
            "<re.Match object; span=(100, 100), match=''>\n",
            "<re.Match object; span=(101, 101), match=''>\n",
            "<re.Match object; span=(102, 102), match=''>\n",
            "<re.Match object; span=(103, 103), match=''>\n",
            "<re.Match object; span=(104, 104), match=''>\n",
            "<re.Match object; span=(105, 105), match=''>\n"
          ]
        }
      ]
    },
    {
      "cell_type": "code",
      "source": [
        "# número exato de vezes\n",
        "\n",
        "padrao19 = re.compile(r'[para]{4}')\n",
        "verifica = padrao19.finditer(texto)\n",
        "for i in verifica:\n",
        "    print(i)\n",
        "\n",
        "print()\n",
        "\n",
        "# número mín e max\n",
        "padrao20 = re.compile(r'[para]{2,4}')\n",
        "verifica = padrao20.finditer(texto)\n",
        "for i in verifica:\n",
        "    print(i)"
      ],
      "metadata": {
        "colab": {
          "base_uri": "https://localhost:8080/"
        },
        "id": "wmSv4ckOnjxl",
        "outputId": "d3e400e4-1dea-49d0-925e-6060d047d6c7"
      },
      "execution_count": 106,
      "outputs": [
        {
          "output_type": "stream",
          "name": "stdout",
          "text": [
            "<re.Match object; span=(73, 77), match='para'>\n",
            "\n",
            "<re.Match object; span=(36, 38), match='ap'>\n",
            "<re.Match object; span=(73, 77), match='para'>\n",
            "<re.Match object; span=(83, 85), match='ar'>\n"
          ]
        }
      ]
    },
    {
      "cell_type": "code",
      "source": [
        "# grupos\n",
        "\n",
        "padrao21 = re.compile(r'(C|c)?[a-z]{7} [0-9]+')\n",
        "verifica = padrao21.finditer(texto2)\n",
        "for i in verifica:\n",
        "    print(i)\n",
        "    print(i.group(1))"
      ],
      "metadata": {
        "colab": {
          "base_uri": "https://localhost:8080/"
        },
        "id": "MO8KOcxJpQEd",
        "outputId": "123de895-8ee0-42d8-82e7-6fc1fe514f06"
      },
      "execution_count": 107,
      "outputs": [
        {
          "output_type": "stream",
          "name": "stdout",
          "text": [
            "<re.Match object; span=(3, 15), match='Continuo 322'>\n",
            "C\n",
            "<re.Match object; span=(40, 53), match='caracter 5499'>\n",
            "c\n"
          ]
        }
      ]
    },
    {
      "cell_type": "code",
      "source": [
        "# buscar sites na string\n",
        "\n",
        "padrao22 = re.compile(r'https?://(www\\.)?([a-zA-Z0-9]+\\.)+(com.br|gov.br|com)')\n",
        "verifica = padrao22.finditer(texto2)\n",
        "for i in verifica:\n",
        "    print(i)\n",
        "    print(i.group(1))\n",
        "    print(i.group(2))\n",
        "    print(i.group(3))"
      ],
      "metadata": {
        "colab": {
          "base_uri": "https://localhost:8080/"
        },
        "id": "AykhQCA8rssW",
        "outputId": "df626614-d202-4c41-e373-a2484d85c19f"
      },
      "execution_count": 109,
      "outputs": [
        {
          "output_type": "stream",
          "name": "stdout",
          "text": [
            "<re.Match object; span=(90, 107), match='http://google.com'>\n",
            "None\n",
            "google.\n",
            "com\n",
            "<re.Match object; span=(109, 135), match='https://www.youtube.com.br'>\n",
            "www.\n",
            "youtube.\n",
            "com.br\n",
            "<re.Match object; span=(137, 172), match='https://www.hashtagtreinamentos.com'>\n",
            "www.\n",
            "hashtagtreinamentos.\n",
            "com\n",
            "<re.Match object; span=(174, 192), match='https://www.gov.br'>\n",
            "None\n",
            "www.\n",
            "gov.br\n",
            "<re.Match object; span=(194, 222), match='https://www.faetec.rj.gov.br'>\n",
            "www.\n",
            "rj.\n",
            "gov.br\n"
          ]
        }
      ]
    }
  ],
  "metadata": {
    "language_info": {
      "name": "python"
    },
    "colab": {
      "provenance": []
    },
    "kernelspec": {
      "name": "python3",
      "display_name": "Python 3"
    }
  },
  "nbformat": 4,
  "nbformat_minor": 0
}