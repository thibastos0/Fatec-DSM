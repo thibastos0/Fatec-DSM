{
 "cells": [
  {
   "cell_type": "code",
   "execution_count": null,
   "metadata": {
    "vscode": {
     "languageId": "plaintext"
    }
   },
   "outputs": [],
   "source": [
    "import re\n",
    "texto = 'arara'\n",
    "padrao = re.compile('ar.ra')\n",
    "verificar = re.findall(padrao)\n",
    "print(verificar)"
   ]
  }
 ],
 "metadata": {
  "language_info": {
   "name": "python"
  }
 },
 "nbformat": 4,
 "nbformat_minor": 2
}
