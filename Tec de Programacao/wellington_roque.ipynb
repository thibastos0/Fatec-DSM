{
  "nbformat": 4,
  "nbformat_minor": 0,
  "metadata": {
    "colab": {
      "provenance": []
    },
    "kernelspec": {
      "name": "python3",
      "display_name": "Python 3"
    },
    "language_info": {
      "name": "python"
    }
  },
  "cells": [
    {
      "cell_type": "markdown",
      "source": [
        "# **Revisão de Algoritmos em Python**\n",
        "\n",
        "\n",
        "**Entrada e Saída de Dados em Python**\n",
        "\n",
        "Em Python, a entrada de dados é feita com o comando input(), enquanto a saída de dados é feita com o comando print(). Além disso, podemos usar operadores aritméticos para realizar cálculos e exibir resultados.\n",
        "\n",
        "**🔹 Entrada de Dados (input())**\n",
        "\n",
        "O comando input() permite que o usuário digite valores no programa. O valor digitado é sempre armazenado como texto (string), então se quisermos trabalhar com números, precisamos converter para int ou float.\n",
        "\n",
        "📌 Exemplo 1: Entrada de Nome"
      ],
      "metadata": {
        "id": "u9Ntpl7zu03L"
      }
    },
    {
      "cell_type": "code",
      "source": [
        "#exercicio1\n"
      ],
      "metadata": {
        "id": "3r4eg0vFzLX9"
      },
      "execution_count": null,
      "outputs": []
    },
    {
      "cell_type": "code",
      "source": [
        "nome = input(\"Digite seu nome: \")  # O usuário digita um nome\n",
        "print(\"Olá,\", nome, \"! Seja bem-vindo!\")  # Exibe a saudação\n"
      ],
      "metadata": {
        "id": "Uj21JBl1vL_T",
        "colab": {
          "base_uri": "https://localhost:8080/"
        },
        "outputId": "97c14380-1f11-4d83-88b6-f0acfe7f1dd3"
      },
      "execution_count": null,
      "outputs": [
        {
          "output_type": "stream",
          "name": "stdout",
          "text": [
            "Digite seu nome: welingotn\n",
            "Olá, welingotn ! Seja bem-vindo!\n"
          ]
        }
      ]
    },
    {
      "cell_type": "markdown",
      "source": [
        "**🔹 Saída de Dados (print())**\n",
        "\n",
        "O comando print() é usado para exibir informações na tela. Ele pode mostrar textos, números e variáveis.\n",
        "\n",
        "📌 Exemplo 2: Exibir Mensagens"
      ],
      "metadata": {
        "id": "ko9jmx3bvOR3"
      }
    },
    {
      "cell_type": "code",
      "source": [
        "print(\"Olá, mundo!\")  # Exibe um texto simples\n",
        "print(\"Python é incrível!\")  # Outro exemplo\n"
      ],
      "metadata": {
        "id": "hZzIatBCvS_Y"
      },
      "execution_count": null,
      "outputs": []
    },
    {
      "cell_type": "markdown",
      "source": [
        "**📌 Exemplo 3: Formatação de Saída**"
      ],
      "metadata": {
        "id": "Znk1148pvWEJ"
      }
    },
    {
      "cell_type": "code",
      "source": [
        "nome = \"Ana\"\n",
        "idade = 25\n",
        "print(f\"Meu nome é {nome} e eu tenho {idade} anos.\")  # Usando f-strings\n"
      ],
      "metadata": {
        "id": "5L_K-N-0vcZh"
      },
      "execution_count": null,
      "outputs": []
    },
    {
      "cell_type": "markdown",
      "source": [
        "**🔹 Operadores Aritméticos**\n",
        "\n",
        "Os operadores aritméticos são usados para fazer cálculos matemáticos.\n",
        "\n",
        "![image.png](data:image/png;base64,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)"
      ],
      "metadata": {
        "id": "Ayg2C_OfvhQ3"
      }
    },
    {
      "cell_type": "markdown",
      "source": [
        "**📌 Exemplo 4: Cálculos Simples**"
      ],
      "metadata": {
        "id": "t2290qQZwBfv"
      }
    },
    {
      "cell_type": "code",
      "source": [
        "num1 = int(input(\"Digite o primeiro número: \"))\n",
        "num2 = int(input(\"Digite o segundo número: \"))\n",
        "\n",
        "soma = num1 + num2\n",
        "subtracao = num1 - num2\n",
        "multiplicacao = num1 * num2\n",
        "divisao = num1 / num2\n",
        "\n",
        "print(f\"Soma: {soma}\")\n",
        "print(f\"Subtração: {subtracao}\")\n",
        "print(f\"Multiplicação: {multiplicacao}\")\n",
        "print(f\"Divisão: {divisao:.2f}\")  # Exibe com duas casas decimais\n"
      ],
      "metadata": {
        "id": "HPLQFc0LwFVP",
        "colab": {
          "base_uri": "https://localhost:8080/"
        },
        "outputId": "5fe5babe-bf9e-4bab-fb65-37e56353687e"
      },
      "execution_count": null,
      "outputs": [
        {
          "output_type": "stream",
          "name": "stdout",
          "text": [
            "Digite o primeiro número: 4\n",
            "Digite o segundo número: 5\n",
            "Soma: 9\n",
            "Subtração: -1\n",
            "Multiplicação: 20\n",
            "Divisão: 0.80\n"
          ]
        }
      ]
    },
    {
      "cell_type": "markdown",
      "source": [
        "# **🔹 Exercício Prático**\n",
        "\n",
        "**📌Exercício 1. Parcelamento de um produto**\n",
        "\n",
        "Uma loja oferece parcelamento de um produto, mas cobra 10% de juros ao parcelar.\n",
        "Peça ao usuário o preço do produto e o número de parcelas e calcule o valor total e o valor de cada parcela.\n",
        "\n",
        "**📌 Exercício 2. Controle de estoque**\n",
        "\n",
        "Crie um sistema para controlar o estoque de produtos. O programa deve pedir a quantidade inicial de um produto, a quantidade vendida e a quantidade recebida. Calcule a quantidade final em estoque.\n",
        "\n",
        "**📌 Exercício 3. Cálculo de pontuação de jogo**\n",
        "\n",
        "Crie um programa que calcule a pontuação total de um jogador em um jogo.\n",
        "\n",
        "A pontuação será dada por:\n",
        "\n",
        "* 10 pontos por cada vitória.\n",
        "\n",
        "* 5 pontos por cada empate.\n",
        "\n",
        "* 0 pontos por cada derrota.\n",
        "\n",
        "O programa deve calcular o total de pontos de acordo com o número de vitórias, empates e derrotas informados.\n",
        "\n",
        "\n"
      ],
      "metadata": {
        "id": "U_Y2IfYCwK6N"
      }
    },
    {
      "cell_type": "code",
      "source": [
        "#exercicio1\n",
        "preco = float(input(\"Digite o preço do produto: \"))\n",
        "num_parcelas = int(input(\"Digite o número de parcelas: \"))\n",
        "if num_parcelas > 0:\n",
        "    valor_total = preco*1.1\n",
        "    valor_parcela = valor_total / num_parcelas\n",
        "    print(f\"Valor total com juros: R${valor_total:.2f}\")\n",
        "    print(f\"Valor de cada parcela: R${valor_parcela:.2f}\")\n",
        "else:\n",
        "    print(f\"Valor do produto sem juros: R${preco:.2f}\")\n",
        "    print(\"O número de parcelas deve ser maior que zero.\")"
      ],
      "metadata": {
        "colab": {
          "base_uri": "https://localhost:8080/"
        },
        "id": "JEWX967syZdx",
        "outputId": "98e1e67b-2c60-4067-f8ad-615cfc7b6073"
      },
      "execution_count": null,
      "outputs": [
        {
          "output_type": "stream",
          "name": "stdout",
          "text": [
            "Digite o preço do produto: 200\n",
            "Digite o número de parcelas: 0\n",
            "Valor do produto sem juros: R$200.00\n",
            "O número de parcelas deve ser maior que zero.\n"
          ]
        }
      ]
    },
    {
      "cell_type": "code",
      "source": [
        "#exercio2\n",
        "print(\"Controle de estoque\")\n",
        "qtdProduto = {\"inicial\": 0, \"vendida\": 0, \"recebida\": 0}\n",
        "for i in qtdProduto:\n",
        "  qtdProduto[i] = int(input(f\"Digite a quantidade {i} do produto: \"))\n",
        "qtdFinal = qtdProduto[\"inicial\"] - qtdProduto[\"vendida\"] + qtdProduto[\"recebida\"]\n",
        "print(f\"Quantidade final em estoque: {qtdFinal}\")"
      ],
      "metadata": {
        "id": "jscY8O7-yjAo",
        "colab": {
          "base_uri": "https://localhost:8080/"
        },
        "outputId": "60b8189c-f2ea-4623-eb61-1c774b82c4bf"
      },
      "execution_count": null,
      "outputs": [
        {
          "output_type": "stream",
          "name": "stdout",
          "text": [
            "Controle de estoque\n",
            "Digite a quantidade inicial do produto: 15\n",
            "Digite a quantidade vendida do produto: 10\n",
            "Digite a quantidade recebida do produto: 5\n",
            "Quantidade final em estoque: 10\n"
          ]
        }
      ]
    },
    {
      "cell_type": "code",
      "source": [
        "#exercicio3\n",
        "print(\"Cálculo de pontuação de jogo:\")\n",
        "resultados = {\"vitórias\": 0, \"empates\": 0, \"derrotas\": 0}\n",
        "partidas = 0\n",
        "\n",
        "def pontuacao(v, e):\n",
        "  return v*10 + e*5\n",
        "\n",
        "\n",
        "for k in resultados.keys():\n",
        "  resultados[k] = int(input(f\"Digite o número de {k}: \"))\n",
        "\n",
        "partidas = sum(resultados.values())\n",
        "\n",
        "Totalpontos = pontuacao(resultados[\"vitórias\"], resultados[\"empates\"])\n",
        "print(f\"Em {partidas} partidas foram feitos um total de {Totalpontos} pontos.\")\n"
      ],
      "metadata": {
        "id": "JV1AIqLCzIIR",
        "colab": {
          "base_uri": "https://localhost:8080/"
        },
        "outputId": "355c78e3-d3cb-400c-e4d3-76d858033f10"
      },
      "execution_count": null,
      "outputs": [
        {
          "output_type": "stream",
          "name": "stdout",
          "text": [
            "Cálculo de pontuação de jogo:\n",
            "Digite o número de vitórias: 5\n",
            "Digite o número de empates: 3\n",
            "Digite o número de derrotas: 2\n",
            "Em 10 partidas foram feitos um total de 65 pontos.\n"
          ]
        }
      ]
    },
    {
      "cell_type": "markdown",
      "source": [
        "# **Comando if e else em Python**\n",
        "\n",
        "O comando if e else em Python é usado para tomar decisões no código com base em condições. Ele permite que o programa execute diferentes blocos de código dependendo de uma condição ser verdadeira ou falsa.\n",
        "\n",
        "**🔹 Sintaxe Básica**"
      ],
      "metadata": {
        "id": "LyTvsVNowWtf"
      }
    },
    {
      "cell_type": "code",
      "source": [
        "if condição:\n",
        "    # Código executado se a condição for verdadeira\n",
        "else:\n",
        "    # Código executado se a condição for falsa\n"
      ],
      "metadata": {
        "id": "Z_sSkqpxwe5I"
      },
      "execution_count": null,
      "outputs": []
    },
    {
      "cell_type": "markdown",
      "source": [
        "📌 Exemplo Simples:"
      ],
      "metadata": {
        "id": "FrClDtnRwh6N"
      }
    },
    {
      "cell_type": "code",
      "source": [
        "idade = int(input(\"Digite sua idade: \"))\n",
        "\n",
        "if idade >= 18:\n",
        "    print(\"✅ Você é maior de idade.\")\n",
        "else:\n",
        "    print(\"❌ Você é menor de idade.\")\n"
      ],
      "metadata": {
        "id": "2FCjtFM9wipf",
        "colab": {
          "base_uri": "https://localhost:8080/"
        },
        "outputId": "5790af5f-7640-4f6a-cb1f-52fa186813c0"
      },
      "execution_count": null,
      "outputs": [
        {
          "output_type": "stream",
          "name": "stdout",
          "text": [
            "Digite sua idade: 17\n",
            "❌ Você é menor de idade.\n"
          ]
        }
      ]
    },
    {
      "cell_type": "markdown",
      "source": [
        "**🔍 Explicação**\n",
        "\n",
        "O usuário digita a idade.\n",
        "Se a idade for maior ou igual a 18, o programa exibe \"Você é maior de idade\".\n",
        "Se for menor que 18, exibe \"Você é menor de idade\".\n",
        "\n",
        "**🔹 Adicionando o elif (Mais de Duas Opções)**\n",
        "\n",
        "O elif (abreviação de \"else if\") permite testar múltiplas condições.\n",
        "\n"
      ],
      "metadata": {
        "id": "Z9PbfiZgwlf6"
      }
    },
    {
      "cell_type": "code",
      "source": [
        "nota = float(input(\"Digite sua nota: \"))\n",
        "\n",
        "if nota >= 7.0:\n",
        "    print(\"✅ Aprovado!\")\n",
        "elif nota >= 5.0:\n",
        "    print(\"⚠️ Recuperação!\")\n",
        "else:\n",
        "    print(\"❌ Reprovado!\")\n"
      ],
      "metadata": {
        "id": "KuIqDjqew5Uf",
        "colab": {
          "base_uri": "https://localhost:8080/"
        },
        "outputId": "0fbf9848-71e7-4bc2-f884-3557e2126f35"
      },
      "execution_count": null,
      "outputs": [
        {
          "output_type": "stream",
          "name": "stdout",
          "text": [
            "Digite sua nota: 10\n",
            "✅ Aprovado!\n"
          ]
        }
      ]
    },
    {
      "cell_type": "markdown",
      "source": [
        "**🔍 Explicação**\n",
        "\n",
        "Se a nota for maior ou igual a 7, o aluno está aprovado.\n",
        "Se estiver entre 5.0 e 6.9, o aluno está de recuperação.\n",
        "Se for menor que 5.0, o aluno está reprovado."
      ],
      "metadata": {
        "id": "Dp33AtAY0bTj"
      }
    },
    {
      "cell_type": "markdown",
      "source": [
        "**📌 Operadores Lógicos em Python**\n",
        "\n",
        "Os operadores lógicos são usados para combinar condições em expressões booleanas (True ou False). Eles são fundamentais para a tomada de decisões nos programas.\n",
        "\n",
        "🔹 Quais são os operadores lógicos?\n",
        "\n",
        "![operadores logicos.png](data:image/png;base64,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)"
      ],
      "metadata": {
        "id": "jCI5gE0wyV1F"
      }
    },
    {
      "cell_type": "markdown",
      "source": [
        "**🔹 Exemplo Prático: Usando and (E)**\n",
        "\n",
        "O operador and só retorna True se todas as condições forem verdadeiras.\n"
      ],
      "metadata": {
        "id": "poIUJCIxysTV"
      }
    },
    {
      "cell_type": "code",
      "source": [
        "idade = int(input(\"Digite sua idade: \"))\n",
        "renda = float(input(\"Digite sua renda mensal: \"))\n",
        "\n",
        "if idade >= 18 and renda >= 2000:\n",
        "    print(\"✅ Você pode fazer um financiamento.\")\n",
        "else:\n",
        "    print(\"❌ Você não atende aos requisitos.\")\n"
      ],
      "metadata": {
        "colab": {
          "base_uri": "https://localhost:8080/"
        },
        "id": "pOOk0jawy6xl",
        "outputId": "e8f2c0af-27e2-46ff-8fc9-51d113a573f7"
      },
      "execution_count": null,
      "outputs": [
        {
          "output_type": "stream",
          "name": "stdout",
          "text": [
            "Digite sua idade: 43\n",
            "Digite sua renda mensal: 1000\n",
            "❌ Você não atende aos requisitos.\n"
          ]
        }
      ]
    },
    {
      "cell_type": "markdown",
      "source": [
        "**🔍 Explicação**\n",
        "\n",
        "O usuário precisa ter 18 anos ou mais E uma renda de pelo menos R$2000,00 para conseguir o financiamento.\n",
        "Se uma das condições for falsa, ele não pode fazer o financiamento."
      ],
      "metadata": {
        "id": "DGZZMZ06y9Zk"
      }
    },
    {
      "cell_type": "markdown",
      "source": [
        "**🔹 Exemplo Prático: Usando or (OU)**\n",
        "\n",
        "O operador or retorna True se pelo menos uma das condições for verdadeira."
      ],
      "metadata": {
        "id": "RTnseCDUzDLM"
      }
    },
    {
      "cell_type": "code",
      "source": [
        "clima = input(\"Está sol ou está calor? (s/n): \")\n",
        "dia_livre = input(\"Você tem tempo livre? (s/n): \")\n",
        "\n",
        "if clima == \"s\" or dia_livre == \"s\":\n",
        "    print(\"🌞 Você pode ir à praia!\")\n",
        "else:\n",
        "    print(\"❌ Melhor ficar em casa.\")\n"
      ],
      "metadata": {
        "id": "R8tzxLNRzPC1",
        "colab": {
          "base_uri": "https://localhost:8080/"
        },
        "outputId": "495f5147-a26e-4888-eba6-fb9429c3e8d6"
      },
      "execution_count": null,
      "outputs": [
        {
          "output_type": "stream",
          "name": "stdout",
          "text": [
            "Está sol ou está calor? (s/n): s\n",
            "Você tem tempo livre? (s/n): n\n",
            "🌞 Você pode ir à praia!\n"
          ]
        }
      ]
    },
    {
      "cell_type": "markdown",
      "source": [
        "**🔍 Explicação**\n",
        "\n",
        "Se está sol ou tem tempo livre, a pessoa pode ir à praia.\n",
        "Se nenhuma condição for verdadeira, o programa recomenda ficar em casa."
      ],
      "metadata": {
        "id": "6S8dFD7OzRZC"
      }
    },
    {
      "cell_type": "markdown",
      "source": [
        "**🔹 Exemplo Prático: Usando not (NÃO)**\n",
        "\n",
        "O operador not inverte o valor lógico da condição."
      ],
      "metadata": {
        "id": "B45q27JJzVEb"
      }
    },
    {
      "cell_type": "code",
      "source": [
        "chovendo = input(\"Está chovendo? (s/n): \")\n",
        "\n",
        "if not chovendo == \"s\":\n",
        "    print(\"🌞 Você pode sair sem guarda-chuva!\")\n",
        "else:\n",
        "    print(\"☔ Melhor levar um guarda-chuva.\")\n"
      ],
      "metadata": {
        "id": "FqOYROEtzYo7",
        "colab": {
          "base_uri": "https://localhost:8080/"
        },
        "outputId": "af5b1c6e-6fca-41e3-8d23-4e29755fb164"
      },
      "execution_count": null,
      "outputs": [
        {
          "output_type": "stream",
          "name": "stdout",
          "text": [
            "Está chovendo? (s/n): s\n",
            "☔ Melhor levar um guarda-chuva.\n"
          ]
        }
      ]
    },
    {
      "cell_type": "markdown",
      "source": [
        "**🔹 Combinação de Operadores**\n",
        "\n",
        "Podemos combinar and, or e not para criar condições mais complexas."
      ],
      "metadata": {
        "id": "zsngtix8zkXM"
      }
    },
    {
      "cell_type": "code",
      "source": [
        "usuario_cadastrado = input(\"Você tem cadastro no sistema? (s/n): \")\n",
        "senha_correta = input(\"Digite sua senha (ou '1234' para simular a correta): \")\n",
        "\n",
        "# Verifica se NÃO está cadastrado\n",
        "if not usuario_cadastrado == \"s\":\n",
        "    print(\"❌ Acesso negado. Faça o cadastro primeiro.\")\n",
        "elif senha_correta == \"1234\":\n",
        "    print(\"✅ Login bem-sucedido! Bem-vindo ao sistema.\")\n",
        "else:\n",
        "    print(\"❌ Senha incorreta. Tente novamente.\")\n",
        "\n"
      ],
      "metadata": {
        "id": "Ig5ysnIOznYb",
        "colab": {
          "base_uri": "https://localhost:8080/"
        },
        "outputId": "f687610b-2825-4bf8-ca46-8768cf812048"
      },
      "execution_count": null,
      "outputs": [
        {
          "output_type": "stream",
          "name": "stdout",
          "text": [
            "Você tem cadastro no sistema? (s/n): s\n",
            "Digite sua senha (ou '1234' para simular a correta): 1234\n",
            "✅ Login bem-sucedido! Bem-vindo ao sistema.\n"
          ]
        }
      ]
    },
    {
      "cell_type": "markdown",
      "source": [
        "**🔍 Explicação**\n",
        "\n",
        "Se o usuário NÃO estiver cadastrado (not usuario_cadastrado == \"s\"), o programa já bloqueia o acesso.\n",
        "Se o usuário estiver cadastrado, ele precisa digitar a senha correta (1234).\n",
        "Se a senha estiver errada, o programa informa que a senha é inválida."
      ],
      "metadata": {
        "id": "O6e6ZBve1D3J"
      }
    },
    {
      "cell_type": "markdown",
      "source": [
        "**📌 Conclusão**\n",
        "\n",
        "✅ and → Todas as condições precisam ser verdadeiras.\n",
        "\n",
        "✅ or → Pelo menos uma condição precisa ser verdadeira.\n",
        "\n",
        "✅ not → Inverte o valor lógico da condição.\n",
        "\n",
        "Esses operadores são essenciais para a construção de programas inteligentes que tomam decisões baseadas em múltiplas condições!"
      ],
      "metadata": {
        "id": "u9lk_vdD0Dar"
      }
    },
    {
      "cell_type": "markdown",
      "source": [
        "**🔹 if Aninhado (Uma Decisão Dentro de Outra)**\n",
        "\n",
        "Podemos ter um if dentro de outro if para testar mais condições."
      ],
      "metadata": {
        "id": "PwzX6oPb1vuY"
      }
    },
    {
      "cell_type": "code",
      "source": [
        "idade = int(input(\"Digite sua idade: \"))\n",
        "\n",
        "if idade >= 18:\n",
        "    carteira = input(\"Você tem carteira de motorista? (s/n): \")\n",
        "    if carteira == \"s\":\n",
        "        print(\"🚗 Você pode dirigir!\")\n",
        "    else:\n",
        "        print(\"🚫 Você não pode dirigir!\")\n",
        "else:\n",
        "    print(\"❌ Você é menor de idade e não pode dirigir!\")\n"
      ],
      "metadata": {
        "id": "HoN1a4Wb1zTA",
        "colab": {
          "base_uri": "https://localhost:8080/"
        },
        "outputId": "70954c0c-f09f-4214-a79e-fdc3a6eb16f0"
      },
      "execution_count": null,
      "outputs": [
        {
          "output_type": "stream",
          "name": "stdout",
          "text": [
            "Digite sua idade: 43\n",
            "Você tem carteira de motorista? (s/n): s\n",
            "🚗 Você pode dirigir!\n"
          ]
        }
      ]
    },
    {
      "cell_type": "markdown",
      "source": [
        "**🔍 Explicação**\n",
        "\n",
        "Se a idade for maior ou igual a 18, o programa pergunta se a pessoa tem carteira de motorista.\n",
        "Se a resposta for \"s\", exibe \"Você pode dirigir\".\n",
        "Se for \"n\", exibe \"Você não pode dirigir\".\n",
        "Se for menor de idade, já exibe \"Você não pode dirigir\" diretamente."
      ],
      "metadata": {
        "id": "rXemNFvY17np"
      }
    },
    {
      "cell_type": "markdown",
      "source": [
        "📌 Conclusão\n",
        "\n",
        "✅ O if verifica uma condição e executa um bloco de código se for verdadeira.\n",
        "\n",
        "✅ O else executa outro bloco de código se a condição do if for falsa.\n",
        "\n",
        "✅ O elif permite testar múltiplas condições.\n",
        "\n",
        "✅ Podemos combinar operadores lógicos (and, or, not) para criar verificações mais avançadas.\n",
        "\n",
        "✅ Podemos aninhar if dentro de if para decisões mais complexas.\n",
        "\n",
        "\n",
        "Esse comando é fundamental na programação, pois permite criar programas inteligentes que tomam decisões com base na entrada do usuário!"
      ],
      "metadata": {
        "id": "O1UDzf992OmH"
      }
    },
    {
      "cell_type": "markdown",
      "source": [
        "# **🔹 Exercício Prático**\n",
        "\n",
        "**📌 Exercício 4. Cálculo de comissão de vendedor**\n",
        "\n",
        "\n",
        "Crie um programa que calcule a comissão de um vendedor, com base nas vendas realizadas. O vendedor ganha 5% de comissão sobre as vendas, mas existe um bônus de `R$ 200,00` se ele vender mais de R$ 10.000,00 no mês.\n",
        "\n",
        "Fórmula:\n",
        "\n",
        "Comissão = 5% do valor das vendas\n",
        "\n",
        "Se as vendas forem acima de `R$ 10.000,00` adicionar o bônus de R$ 200.\n",
        "\n",
        "\n",
        "**📌 Exercício 5. Cálculo de salário líquido**\n",
        "\n",
        "\n",
        "Crie um programa que calcule o salário líquido de um funcionário. O salário bruto é dado pelo usuário, e o programa deve descontar:\n",
        "\n",
        "* INSS (10%)\n",
        "\n",
        "* Imposto de Renda (IR) de acordo com a faixa salarial:\n",
        "\n",
        "Até R$ `2.000,00`: isento\n",
        "\n",
        "De `R$ 2.001,00` até `R$ 5.000,00:` 10%\n",
        "\n",
        "Acima de `R$ 5.000,00`: 20%\n",
        "\n",
        "\n",
        "**📌 Exercício 6. Simulação de descontos em uma compra**\n",
        "\n",
        "Crie um programa que simule um desconto progressivo em uma compra. O cliente recebe:\n",
        "\n",
        "10% de desconto se o valor da compra for até `R$ 500.`\n",
        "\n",
        "15% de desconto se o valor da compra for entre `R$ 501 e R$ 1000.`\n",
        "\n",
        "20% de desconto se o valor da compra for acima de `R$ 1000.`\n",
        "\n",
        "O programa deve pedir o valor total da compra e aplicar o desconto correspondente."
      ],
      "metadata": {
        "id": "HKoTd7bJ9xBC"
      }
    },
    {
      "cell_type": "code",
      "source": [
        "# Exercício 4. Cálculo de comissão de vendedor\n",
        "vendasMes = float(input(\"Digite o valor total das suas vendas no mês: \"))\n",
        "\n",
        "if vendasMes > 10000:\n",
        "    comissao = vendasMes * 0.05 + 200\n",
        "else:\n",
        "    comissao = vendasMes * 0.05\n",
        "\n",
        "print(f\"A comissão do vendedor é de R${comissao:.2f}\")"
      ],
      "metadata": {
        "id": "kwrSrFZg4t7G",
        "outputId": "a6b2b03c-4f91-4219-b5c0-d0c7b99d5c97",
        "colab": {
          "base_uri": "https://localhost:8080/"
        }
      },
      "execution_count": null,
      "outputs": [
        {
          "output_type": "stream",
          "name": "stdout",
          "text": [
            "Digite o valor total das suas vendas no mês: 15000\n",
            "A comissão do vendedor é de R$950.00\n"
          ]
        }
      ]
    },
    {
      "cell_type": "code",
      "source": [
        "# Exercício 5. Cálculo de salário líquido\n",
        "salarioBruto = float(input(\"Digite o valor do seu salário bruto: \"))\n",
        "\n",
        "# Desconto INSS\n",
        "inss = salarioBruto * 0.1\n",
        "\n",
        "# Desconto IR\n",
        "if salarioBruto > 5000:\n",
        "  ir = salarioBruto * 0.2\n",
        "elif salarioBruto <= 5000 and salarioBruto > 2000:\n",
        "  ir = salarioBruto * 0.1\n",
        "else:\n",
        "  ir = 0\n",
        "\n",
        "# Salário líquido\n",
        "salarioLiquido = salarioBruto - inss - ir\n",
        "print()\n",
        "print(\"Contracheque do mês:\")\n",
        "print(\"=\"*30)\n",
        "print(\"salário bruto\", end = ' ')\n",
        "print(f\" R$ {salarioBruto:.2f}\".rjust(16, '-'))\n",
        "print(\"INSS\", end = ' ')\n",
        "print(f\" R$ {inss:.2f}\".rjust(25, '-'))\n",
        "print(\"IR\", end = ' ')\n",
        "print(f\" R$ {ir:.2f}\".rjust(27, '-'))\n",
        "print(\"salário líquido\" , end =' ')\n",
        "print(f\" R$ {salarioLiquido:.2f}\".rjust(14, '-'))\n",
        "print(\"=\"*30)"
      ],
      "metadata": {
        "id": "2YRl2XZE41uC",
        "outputId": "a63409d7-9c36-43a1-fdcc-808f38f2336c",
        "colab": {
          "base_uri": "https://localhost:8080/"
        }
      },
      "execution_count": null,
      "outputs": [
        {
          "output_type": "stream",
          "name": "stdout",
          "text": [
            "Digite o valor do seu salário bruto: 700000\n",
            "\n",
            "Contracheque do mês:\n",
            "==============================\n",
            "salário bruto --- R$ 700000.00\n",
            "INSS ------------- R$ 70000.00\n",
            "IR -------------- R$ 140000.00\n",
            "salário líquido - R$ 490000.00\n",
            "==============================\n"
          ]
        }
      ]
    },
    {
      "cell_type": "code",
      "source": [
        "# Exercício 6. Simulação de descontos em uma compra\n",
        "valorCompra = float(input(\"Digite o valor total da compra: \"))\n",
        "if valorCompra <= 500:\n",
        "    desconto = 0.1\n",
        "elif valorCompra > 500 and valorCompra <= 1000:\n",
        "    desconto = 0.15\n",
        "else:\n",
        "    desconto = 0.2\n",
        "\n",
        "print(f\"Você gastou R$ {valorCompra} e seu desconto ficou em {desconto*100}%.\")\n",
        "print(f\"O valor descontado será de R$ {(valorCompra * desconto):.2f}\")\n",
        "print(f\"O valor da compra com desconto é: R$ {valorCompra - (valorCompra * desconto):.2f}.\")"
      ],
      "metadata": {
        "id": "f5TbziHV45d1",
        "outputId": "12bd6e76-d9ce-45a0-da7b-26e03b94461e",
        "colab": {
          "base_uri": "https://localhost:8080/"
        }
      },
      "execution_count": null,
      "outputs": [
        {
          "output_type": "stream",
          "name": "stdout",
          "text": [
            "Digite o valor total da compra: 300\n",
            "Você gastou R$ 300.0 e seu desconto ficou em 10.0%.\n",
            "O valor descontado será de R$ 30.00\n",
            "O valor da compra com desconto é: R$ 270.00.\n"
          ]
        }
      ]
    },
    {
      "cell_type": "markdown",
      "source": [
        "# **Estruturas de Repetição - Laço for em Python**\n",
        "\n",
        "**🎯 Objetivo da Aula**\n",
        "\n",
        "Compreender como funciona o laço for em Python.\n",
        "\n",
        "Explorar diferentes aplicações, desde exemplos simples até problemas mais desafiadores.\n",
        "\n",
        "Praticar com exercícios variados.\n",
        "\n",
        "\n",
        "**1️⃣ O que é o for e para que serve?**\n",
        "\n",
        "O laço for é usado para repetir um bloco de código um número determinado de vezes. Ele é muito útil para percorrer listas, strings, intervalos numéricos e até dicionários."
      ],
      "metadata": {
        "id": "d04RoStLg-L-"
      }
    },
    {
      "cell_type": "markdown",
      "source": [
        "**2️⃣ Estrutura Básica do for**\n",
        "\n",
        "\n",
        "A sintaxe do for em Python é simples:\n",
        "```\n",
        "for variável in sequência:\n",
        "    # Código que será repetido\n",
        "```"
      ],
      "metadata": {
        "id": "mOYMWniOhMaj"
      }
    },
    {
      "cell_type": "markdown",
      "source": [
        "**3️⃣ Exemplos Simples**\n",
        "\n",
        "🔹 Exemplo 1: Contando de 1 a 5"
      ],
      "metadata": {
        "id": "Ls5BIyZ-i4tS"
      }
    },
    {
      "cell_type": "code",
      "source": [
        "for i in range(1, 6):\n",
        "    print(i)\n"
      ],
      "metadata": {
        "id": "bGf5a7fWi7VQ",
        "colab": {
          "base_uri": "https://localhost:8080/"
        },
        "outputId": "00d97888-3015-4e07-bde4-12fc03e78cbd"
      },
      "execution_count": 1,
      "outputs": [
        {
          "output_type": "stream",
          "name": "stdout",
          "text": [
            "1\n",
            "2\n",
            "3\n",
            "4\n",
            "5\n"
          ]
        }
      ]
    },
    {
      "cell_type": "markdown",
      "source": [
        "🔍 Explicação:\n",
        "\n",
        "O range(1, 6) gera os números 1, 2, 3, 4, 5.\n",
        "O laço for percorre esses valores e os imprime."
      ],
      "metadata": {
        "id": "nXc0Qbkgi9FB"
      }
    },
    {
      "cell_type": "markdown",
      "source": [
        "**🔹 Exemplo 2: Iterando sobre uma lista**"
      ],
      "metadata": {
        "id": "o9Tw6tF-lslz"
      }
    },
    {
      "cell_type": "code",
      "source": [
        "frutas = [\"Maçã\", \"Banana\", \"Laranja\", \"Morango\"]\n",
        "\n",
        "for fruta in frutas:\n",
        "    print(fruta)\n"
      ],
      "metadata": {
        "id": "IAubdVdIlxEq",
        "colab": {
          "base_uri": "https://localhost:8080/"
        },
        "outputId": "a70379b4-e1b1-460a-f0b6-82c94dc2e7b3"
      },
      "execution_count": 2,
      "outputs": [
        {
          "output_type": "stream",
          "name": "stdout",
          "text": [
            "Maçã\n",
            "Banana\n",
            "Laranja\n",
            "Morango\n"
          ]
        }
      ]
    },
    {
      "cell_type": "markdown",
      "source": [
        "**🔍 Explicação**\n",
        "\n",
        "Cada item da lista frutas é armazenado na variável fruta e impresso."
      ],
      "metadata": {
        "id": "zI4InE3uly0X"
      }
    },
    {
      "cell_type": "markdown",
      "source": [
        "# **4️⃣ Exercícios Práticos**\n",
        "\n",
        "Agora que entendemos a base, vamos praticar!\n",
        "\n",
        "**📌 Exercício 7 - Tabuada**\n",
        "\n",
        "Peça para o usuário digitar um número e exiba a tabuada dele de 1 a 10.\n",
        "\n",
        "**📌 Exercício 8 - Contagem Regressiva**\n",
        "\n",
        "Faça um programa que conte de 10 até 1 e exiba \"Feliz Ano Novo!\" no final.\n",
        "\n",
        "**📌 Exercício 9 - Somando Números Pares**\n",
        "\n",
        "Some todos os números pares de 1 a 100 e exiba o resultado.\n",
        "\n",
        "**📌 Exercício 10 - Contando Vogais**\n",
        "\n",
        "Peça ao usuário para digitar uma palavra e conte quantas vogais existem nela.\n",
        "\n",
        "**📌 Exercício 11 - Números Primos**\n",
        "\n",
        "Desafio: Peça ao usuário para digitar um número e informe se ele é primo.\n"
      ],
      "metadata": {
        "id": "exgavFOwnhRr"
      }
    },
    {
      "cell_type": "code",
      "source": [
        "# exercício 7 - tabuada\n",
        "num = int(input(\"Digite um número para exibir sua tabuada:\"))\n",
        "print()\n",
        "print(f\"A tabuada de {num} é:\")\n",
        "for i in range(1, 11):\n",
        "  print(f\"{num} x {i} = {num*i}\")"
      ],
      "metadata": {
        "colab": {
          "base_uri": "https://localhost:8080/"
        },
        "id": "1Z_3S0frSrkh",
        "outputId": "489a28a5-3e08-49aa-e03e-572a08255fd0"
      },
      "execution_count": 4,
      "outputs": [
        {
          "output_type": "stream",
          "name": "stdout",
          "text": [
            "Digite um número para exibir sua tabuada:7\n",
            "\n",
            "A tabuada de 7 é:\n",
            "7 x 1 = 7\n",
            "7 x 2 = 14\n",
            "7 x 3 = 21\n",
            "7 x 4 = 28\n",
            "7 x 5 = 35\n",
            "7 x 6 = 42\n",
            "7 x 7 = 49\n",
            "7 x 8 = 56\n",
            "7 x 9 = 63\n",
            "7 x 10 = 70\n"
          ]
        }
      ]
    },
    {
      "cell_type": "code",
      "source": [
        "# exercício 8 - contagem regressiva\n",
        "from time import sleep\n",
        "for i in range(10, 0, -1):\n",
        "  print(i)\n",
        "  sleep(1)\n",
        "print(\"Feliz ano novo!\")"
      ],
      "metadata": {
        "colab": {
          "base_uri": "https://localhost:8080/"
        },
        "id": "2qaofcp3To4N",
        "outputId": "e8ec0a3d-9ebf-4931-9b06-0833be438ac7"
      },
      "execution_count": 5,
      "outputs": [
        {
          "output_type": "stream",
          "name": "stdout",
          "text": [
            "10\n",
            "9\n",
            "8\n",
            "7\n",
            "6\n",
            "5\n",
            "4\n",
            "3\n",
            "2\n",
            "1\n",
            "Feliz ano novo!\n"
          ]
        }
      ]
    },
    {
      "cell_type": "code",
      "source": [
        "# exercício 9 - somando números pares\n",
        "\n",
        "soma = 0\n",
        "for i in range(2, 101, 2):\n",
        "  soma += i\n",
        "print(f\"método 1: A soma dos números pares de 1 a 100 é {soma}.\")\n",
        "\n",
        "from functools import reduce\n",
        "\n",
        "def soma (a, b):\n",
        "  return a + b\n",
        "\n",
        "soma1 = reduce(soma, range(2, 101, 2))\n",
        "soma2 = reduce(lambda a, b: a + b, range(2, 101, 2))\n",
        "print(f\"método 2: A soma dos números pares de 1 a 100 é {soma1}.\")\n",
        "print(f\"método 3: A soma dos números pares de 1 a 100 e {soma2}.\")"
      ],
      "metadata": {
        "colab": {
          "base_uri": "https://localhost:8080/"
        },
        "id": "T8rIKWjUToo6",
        "outputId": "ed22566f-20d4-4026-8d32-d5a188cae40c"
      },
      "execution_count": 12,
      "outputs": [
        {
          "output_type": "stream",
          "name": "stdout",
          "text": [
            "método 1: A soma dos números pares de 1 a 100 é 2550.\n",
            "método 2: A soma dos números pares de 1 a 100 é 2550.\n",
            "método 3: A soma dos números pares de 1 a 100 e 2550.\n"
          ]
        }
      ]
    },
    {
      "cell_type": "code",
      "source": [
        "# exercício 10 - contando vogais\n",
        "palavra = input(\"Digite uma palavra: \")\n",
        "contador = 0\n",
        "for letra in palavra.lower():\n",
        "  if letra in \"aeiou\":\n",
        "    contador += 1\n",
        "print(f\"A palavra '{palavra}' possui {contador} vogais.\")"
      ],
      "metadata": {
        "colab": {
          "base_uri": "https://localhost:8080/"
        },
        "id": "3n9kFvXKToZI",
        "outputId": "d1a05733-78ae-49b8-c834-e054da4305b5"
      },
      "execution_count": 17,
      "outputs": [
        {
          "output_type": "stream",
          "name": "stdout",
          "text": [
            "Digite uma palavra: PROGRAMAR\n",
            "A palavra 'PROGRAMAR' possui 3 vogais.\n"
          ]
        }
      ]
    },
    {
      "cell_type": "code",
      "source": [
        "# exercício 11 - números primos\n",
        "num = int(input(\"Digite um número: \"))\n",
        "divisores = [1]\n",
        "# primo = True\n",
        "for i in range(2, num):\n",
        "  if num % i == 0:\n",
        "     divisores.append(i)\n",
        "#    primo = False\n",
        "#    print(f\"O número {num} não é primo.\")\n",
        "#    print(f\"Divisível por {i}.\")\n",
        "#    break\n",
        "#if primo:\n",
        "#  print(f\"O número {num} é primo.\")\n",
        "divisores.append(num)\n",
        "if len(divisores) == 2:\n",
        "  print(f\"O número {num} é primo.\")\n",
        "else:\n",
        "  print(f\"O número {num} não é primo.\")\n",
        "  print(f\"Divisível por {divisores}.\")"
      ],
      "metadata": {
        "colab": {
          "base_uri": "https://localhost:8080/"
        },
        "id": "zrTlpkHalOsO",
        "outputId": "ae4ff4e3-23e9-4c72-f1c5-ca375d342161"
      },
      "execution_count": 29,
      "outputs": [
        {
          "output_type": "stream",
          "name": "stdout",
          "text": [
            "Digite um número: 143\n",
            "O número 143 não é primo.\n",
            "Divisível por [1, 11, 13, 143].\n"
          ]
        }
      ]
    },
    {
      "cell_type": "markdown",
      "source": [
        "# **Estrutura de Repetição while em Python**\n",
        "\n",
        "**🎯 Objetivo da Aula**\n",
        "\n",
        "Compreender como funciona o laço while em Python.\n",
        "\n",
        "Explorar diferentes aplicações, desde exemplos simples até problemas mais desafiadores.\n",
        "\n",
        "Praticar com exercícios variados.\n"
      ],
      "metadata": {
        "id": "WLDQ7BCUuT4B"
      }
    },
    {
      "cell_type": "markdown",
      "source": [
        "**1️⃣ O que é o while e para que serve?**\n",
        "\n",
        "O while é uma estrutura de repetição que executa um bloco de código enquanto uma condição for verdadeira.\n",
        "Diferente do for, ele não tem um número fixo de repetições, pois depende de uma condição lógica.\n",
        "\n",
        "**2️⃣ Estrutura Básica do while**\n",
        "\n",
        "A sintaxe do while é:\n",
        "\n",
        "\n",
        "\n",
        "```\n",
        "while condição:\n",
        "    # Código que será repetido enquanto a condição for verdadeira\n",
        "```\n",
        "\n",
        "\n",
        "*   O bloco dentro do while será executado repetidamente enquanto a condição for verdadeira (True).\n",
        "\n",
        "*   Se a condição nunca se tornar falsa (False), o loop continuará indefinidamente, causando um loop infinito.\n",
        "\n",
        "\n",
        "\n",
        "\n",
        "\n"
      ],
      "metadata": {
        "id": "RGPwwzMXuf88"
      }
    },
    {
      "cell_type": "markdown",
      "source": [
        "**3️⃣ Exemplo Simples**\n",
        "\n",
        "🔹 Exemplo 1: Contando de 1 a 5"
      ],
      "metadata": {
        "id": "mTTFfF3wvUAG"
      }
    },
    {
      "cell_type": "code",
      "source": [
        "contador = 1\n",
        "\n",
        "while contador <= 5:\n",
        "    print(contador)\n",
        "    contador += 1  # Incremento para evitar loop infinito\n"
      ],
      "metadata": {
        "id": "T72TevHlvWxU",
        "colab": {
          "base_uri": "https://localhost:8080/"
        },
        "outputId": "bb8f2d85-613c-4fd8-df6e-94134bf62164"
      },
      "execution_count": 30,
      "outputs": [
        {
          "output_type": "stream",
          "name": "stdout",
          "text": [
            "1\n",
            "2\n",
            "3\n",
            "4\n",
            "5\n"
          ]
        }
      ]
    },
    {
      "cell_type": "markdown",
      "source": [
        "**🔍 Explicação**\n",
        "\n",
        "A variável contador começa em 1.\n",
        "\n",
        "O while repete o bloco enquanto contador for menor ou igual a 5.\n",
        "\n",
        "A cada repetição, contador é incrementado em 1."
      ],
      "metadata": {
        "id": "h0YdKkqJvX6v"
      }
    },
    {
      "cell_type": "markdown",
      "source": [
        "4️⃣ Evitando Loop Infinito\n",
        "\n",
        "Se esquecermos de atualizar a variável de controle, o loop pode rodar para sempre.\n",
        "\n",
        "❌ Exemplo de loop infinito (NÃO FAÇA ISSO!):"
      ],
      "metadata": {
        "id": "HmssxL3jvdxD"
      }
    },
    {
      "cell_type": "code",
      "source": [
        "contador = 1\n",
        "\n",
        "while contador <= 5:\n",
        "    print(contador)  # Faltou incrementar o contador!\n"
      ],
      "metadata": {
        "id": "sflhs0kLvg1N"
      },
      "execution_count": null,
      "outputs": []
    },
    {
      "cell_type": "markdown",
      "source": [
        "🔍 Esse código nunca para de rodar! 😱\n",
        "Sempre revise suas condições e garanta que em algum momento o while se tornará falso."
      ],
      "metadata": {
        "id": "C-dZQYa6vi5E"
      }
    },
    {
      "cell_type": "markdown",
      "source": [
        "5️⃣ Aplicações Práticas do while\n",
        "Agora, vamos ver alguns exemplos práticos.\n",
        "\n",
        "📌 Exemplo 2: Solicitando senha"
      ],
      "metadata": {
        "id": "ic9N1CgIvlfT"
      }
    },
    {
      "cell_type": "code",
      "source": [
        "senha_correta = \"1234\"\n",
        "senha_digitada = \"\"\n",
        "\n",
        "while senha_digitada != senha_correta:\n",
        "    senha_digitada = input(\"Digite a senha: \")\n",
        "\n",
        "print(\"🔓 Acesso concedido!\")\n"
      ],
      "metadata": {
        "id": "CMfncUpTvnQK",
        "colab": {
          "base_uri": "https://localhost:8080/"
        },
        "outputId": "d7cb2e45-987d-4cc8-a5cd-0766c1e5128f"
      },
      "execution_count": 31,
      "outputs": [
        {
          "output_type": "stream",
          "name": "stdout",
          "text": [
            "Digite a senha: 4\n",
            "Digite a senha: 654\n",
            "Digite a senha: 1324\n",
            "Digite a senha: 1234\n",
            "🔓 Acesso concedido!\n"
          ]
        }
      ]
    },
    {
      "cell_type": "markdown",
      "source": [
        "**🔍 Explicação**\n",
        "\n",
        "O programa continua pedindo a senha até que o usuário digite 1234.\n",
        "Quando a senha correta for inserida, o loop termina e a mensagem de acesso é exibida."
      ],
      "metadata": {
        "id": "_DRgKmD_vtgC"
      }
    },
    {
      "cell_type": "markdown",
      "source": [
        "📌 Exemplo 3: Somando números até o usuário digitar 0"
      ],
      "metadata": {
        "id": "VGhvwQhyvw_E"
      }
    },
    {
      "cell_type": "code",
      "source": [
        "soma = 0\n",
        "num = int(input(\"Digite um número (0 para sair): \"))\n",
        "\n",
        "while num != 0:\n",
        "    soma += num\n",
        "    num = int(input(\"Digite um número (0 para sair): \"))\n",
        "\n",
        "print(f\"A soma dos números digitados é {soma}.\")\n"
      ],
      "metadata": {
        "id": "u1ZT6mw7vzB1",
        "colab": {
          "base_uri": "https://localhost:8080/"
        },
        "outputId": "eaba6553-6cda-4da7-dc59-4c127c8702f9"
      },
      "execution_count": 32,
      "outputs": [
        {
          "output_type": "stream",
          "name": "stdout",
          "text": [
            "Digite um número (0 para sair): 4\n",
            "Digite um número (0 para sair): 6\n",
            "Digite um número (0 para sair): 8\n",
            "Digite um número (0 para sair): 88\n",
            "Digite um número (0 para sair): 0\n",
            "A soma dos números digitados é 106.\n"
          ]
        }
      ]
    },
    {
      "cell_type": "markdown",
      "source": [
        "**🔍 Explicação**\n",
        "\n",
        "O programa pede números ao usuário.\n",
        "\n",
        "Ele soma os valores enquanto o número digitado não for 0.\n",
        "\n",
        "Quando 0 for digitado, o loop termina e exibe o total.\n"
      ],
      "metadata": {
        "id": "OdDHnQT6wj_I"
      }
    },
    {
      "cell_type": "markdown",
      "source": [
        "# **6️⃣ Exercícios Práticos**\n",
        "\n",
        "Agora é a sua vez! ✨\n",
        "\n",
        "**📌 Exercício 12 - Adivinhação**\n",
        "\n",
        "O programa escolhe um número aleatório entre 1 e 10, e o usuário tem que adivinhar. Ele só para quando o número correto for digitado.\n",
        "\n",
        "**📌 Exercício 13 - Contador de tentativas**\n",
        "\n",
        "Modifique o programa anterior para contar quantas tentativas o usuário precisou até acertar.\n",
        "\n",
        "**📌 Exercício 14 - Validando Entrada do Usuário**\n",
        "\n",
        "Peça para o usuário digitar um número positivo.\n",
        "\n",
        "Se ele digitar um valor negativo, peça novamente até ele digitar corretamente.\n",
        "\n",
        "**📌 Exercício 15 - Criando um Menu Interativo**\n",
        "\n",
        "Crie um menu que permita ao usuário escolher opções até ele decidir sair.\n",
        "\n",
        "![while.png](data:image/png;base64,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)\n"
      ],
      "metadata": {
        "id": "e2SXBgBsyWgU"
      }
    },
    {
      "cell_type": "code",
      "source": [
        "# exercício 12 - adivinhação\n",
        "from random import choice\n",
        "from random import sample\n",
        "from random import randint\n",
        "numAleatorio = randint(1, 10)\n",
        "# print(numAleatorio)\n",
        "# numAleatorio2 = sample(range(1, 11), 1)\n",
        "# print(numAleatorio2)\n",
        "# numAleatorio3 = choice(range(1, 11))\n",
        "# print(numAleatorio3)\n",
        "chute = 0\n",
        "while chute != numAleatorio:\n",
        "  chute = int(input('Digite um número de 1 a 10: '))\n",
        "print('Parabéns! Você acertou!')\n",
        "print(f'O número aleatório era {numAleatorio} e o chute foi {chute}.')"
      ],
      "metadata": {
        "colab": {
          "base_uri": "https://localhost:8080/"
        },
        "id": "CDNhd3CFpfxF",
        "outputId": "07b43069-50e7-43c9-f22b-12559a6d61c1"
      },
      "execution_count": 44,
      "outputs": [
        {
          "output_type": "stream",
          "name": "stdout",
          "text": [
            "Digite um número de 1 a 10: 4\n",
            "Parabéns! Você acertou!\n",
            "O número aleatório era 4 e o chute foi 4.\n"
          ]
        }
      ]
    },
    {
      "cell_type": "code",
      "source": [
        "# exercício 13 - contador de alternativas\n",
        "from random import sample\n",
        "numAleatorio = sample(range(1, 11), 1)\n",
        "# print(num5Aleatorio)\n",
        "chutes = []\n",
        "while numAleatorio[0] not in chutes:\n",
        "  chute = int(input('Digite um número de 1 a 10: '))\n",
        "  chutes.append(chute)\n",
        "  # print(chutes)\n",
        "print('Parabéns! Você acertou!')\n",
        "print(f'O número aleatório era {numAleatorio[0]}, sendo necessário {len(chutes)} para acertar.')\n",
        "print(f'Suas tentativas foram {chutes}')"
      ],
      "metadata": {
        "colab": {
          "base_uri": "https://localhost:8080/"
        },
        "id": "VtCOfDuJmCW5",
        "outputId": "c3ebd3f8-e1c0-46da-922b-d33b255f2983"
      },
      "execution_count": 12,
      "outputs": [
        {
          "output_type": "stream",
          "name": "stdout",
          "text": [
            "Digite um número de 1 a 10: 2\n",
            "Digite um número de 1 a 10: 3\n",
            "Digite um número de 1 a 10: 5\n",
            "Digite um número de 1 a 10: 6\n",
            "Digite um número de 1 a 10: 7\n",
            "Digite um número de 1 a 10: 9\n",
            "Digite um número de 1 a 10: 1\n",
            "Digite um número de 1 a 10: 10\n",
            "Digite um número de 1 a 10: 4\n",
            "Digite um número de 1 a 10: 8\n",
            "Parabéns! Você acertou!\n",
            "O número aleatório era 8, sendo necessário 10 para acertar.\n",
            "Suas tentativas foram [2, 3, 5, 6, 7, 9, 1, 10, 4, 8]\n"
          ]
        }
      ]
    },
    {
      "cell_type": "code",
      "source": [
        "# exercício 14 - validando entrada do usuário\n",
        "while True:\n",
        "  num = int(input(\"Digite um número positivo: \"))\n",
        "  if num >= 0:\n",
        "    break\n",
        "  print(\"Número inválido. Tente novamente.\")\n",
        "print(f'O número digitado foi {num}.')"
      ],
      "metadata": {
        "colab": {
          "base_uri": "https://localhost:8080/"
        },
        "id": "9NF1rl9kmCKW",
        "outputId": "41560e5d-3c87-4d1e-e24c-748fb46eb62c"
      },
      "execution_count": 13,
      "outputs": [
        {
          "output_type": "stream",
          "name": "stdout",
          "text": [
            "Digite um número positivo: -8\n",
            "Número inválido. Tente novamente.\n",
            "Digite um número positivo: -8\n",
            "Número inválido. Tente novamente.\n",
            "Digite um número positivo: -6\n",
            "Número inválido. Tente novamente.\n",
            "Digite um número positivo: 5\n",
            "O número digitado foi 5.\n"
          ]
        }
      ]
    },
    {
      "cell_type": "code",
      "source": [
        "# exercício 15 - Criando um Menu Interativo\n"
      ],
      "metadata": {
        "id": "2kp_FcxhmBph"
      },
      "execution_count": null,
      "outputs": []
    },
    {
      "cell_type": "markdown",
      "source": [
        "**8️⃣ Conclusão e Resumo**\n",
        "\n",
        "O while repete um bloco de código enquanto uma condição for verdadeira.\n",
        "Se a condição nunca for falsa, um loop infinito pode ocorrer.\n",
        "\n",
        "Usamos while em situações como validação de entrada, menus interativos e jogos.\n",
        "Evite loops infinitos, garantindo que a variável de controle seja atualizada dentro do loop.\n",
        "\n",
        "🔥 Agora é sua vez! Pratique os exercícios e crie seus próprios desafios com while. 🚀😃"
      ],
      "metadata": {
        "id": "yNT21Avp0wjo"
      }
    },
    {
      "cell_type": "markdown",
      "source": [
        "# **Funções em Python**\n",
        "\n",
        "**🎯 Objetivo da Aula**\n",
        "\n",
        "* Compreender o que são funções e por que utilizá-las.\n",
        "\n",
        "* Aprender a criar funções personalizadas.\n",
        "\n",
        "* Explorar funções com parâmetros e retorno de valores.\n",
        "\n",
        "* Aplicar o conceito de funções em exemplos práticos."
      ],
      "metadata": {
        "id": "AhoXv2m2cEN0"
      }
    },
    {
      "cell_type": "markdown",
      "source": [
        "**1️⃣ O que são Funções?**\n",
        "\n",
        "Uma função é um bloco de código que executa uma tarefa específica.\n",
        "Ela pode receber dados de entrada (parâmetros) e pode retornar um resultado.\n",
        "\n",
        "\n",
        "🔹 Vantagens de usar funções:\n",
        "\n",
        "✅ Evita repetição de código (reutilização).\n",
        "\n",
        "✅ Facilita a organização e manutenção do programa.\n",
        "\n",
        "✅ Torna o código mais legível e modular.\n"
      ],
      "metadata": {
        "id": "Ud4kZzRqfFwL"
      }
    },
    {
      "cell_type": "markdown",
      "source": [
        "**2️⃣ Criando uma Função Simples**\n",
        "\n",
        "A estrutura de uma função em Python é:"
      ],
      "metadata": {
        "id": "DT6dpqPHfL77"
      }
    },
    {
      "cell_type": "code",
      "source": [
        "def nome_da_funcao():\n",
        "    # Código da função\n"
      ],
      "metadata": {
        "id": "XlWuFjcdfPFD"
      },
      "execution_count": null,
      "outputs": []
    },
    {
      "cell_type": "markdown",
      "source": [
        "**🔹 Exemplo 1: Função que exibe uma mensagem**"
      ],
      "metadata": {
        "id": "vZAeX-cWfRk7"
      }
    },
    {
      "cell_type": "code",
      "source": [
        "def saudacao():\n",
        "    print(\"Olá! Seja bem-vindo! 😊\")\n",
        "\n",
        "# Chamando a função\n",
        "saudacao()\n"
      ],
      "metadata": {
        "colab": {
          "base_uri": "https://localhost:8080/"
        },
        "id": "S0nVXYHmfU5T",
        "outputId": "cb158438-340b-4b08-d4c0-52027bea9b8c"
      },
      "execution_count": null,
      "outputs": [
        {
          "output_type": "stream",
          "name": "stdout",
          "text": [
            "Olá! Seja bem-vindo! 😊\n"
          ]
        }
      ]
    },
    {
      "cell_type": "markdown",
      "source": [
        "**🔍 Explicação**\n",
        "\n",
        "Criamos a função saudacao().\n",
        "\n",
        "Dentro dela, há um print().\n",
        "\n",
        "Para usá-la, basta chamá-la pelo nome: saudacao().\n"
      ],
      "metadata": {
        "id": "Rn4bJ74OfZwb"
      }
    },
    {
      "cell_type": "markdown",
      "source": [
        "**3️⃣ Funções com Parâmetros**\n",
        "\n",
        "Podemos passar valores de entrada para a função."
      ],
      "metadata": {
        "id": "zKgUe7Cbfd3G"
      }
    },
    {
      "cell_type": "code",
      "source": [
        "def saudacao(nome):\n",
        "    print(f\"Olá, {nome}! Seja bem-vindo! 😊\")\n",
        "\n",
        "# Chamando a função\n",
        "saudacao(\"Lucas\")\n",
        "saudacao(\"Maria\")\n"
      ],
      "metadata": {
        "id": "xPATxG6ikQr9"
      },
      "execution_count": null,
      "outputs": []
    },
    {
      "cell_type": "markdown",
      "source": [
        "**🔍 Explicação:**\n",
        "\n",
        "A função agora recebe um parâmetro (nome).\n",
        "\n",
        "Ao chamá-la, passamos um valor para nome, e ele é exibido no print()"
      ],
      "metadata": {
        "id": "Fkkqjm7jkTqz"
      }
    },
    {
      "cell_type": "markdown",
      "source": [
        "**4️⃣ Funções com Retorno de Valor**\n",
        "\n",
        "Uma função pode retornar um resultado com return."
      ],
      "metadata": {
        "id": "sJhVpIcikXTU"
      }
    },
    {
      "cell_type": "code",
      "source": [
        "def soma(a, b):\n",
        "    return a + b  # Retorna a soma dos números\n",
        "\n",
        "# Chamando a função e armazenando o resultado\n",
        "resultado = soma(3, 5)\n",
        "print(f\"O resultado da soma é {resultado}\")\n"
      ],
      "metadata": {
        "id": "X8PnenAdkbEc"
      },
      "execution_count": null,
      "outputs": []
    },
    {
      "cell_type": "markdown",
      "source": [
        "**🔍 Explicação**\n",
        "\n",
        "soma(a, b) recebe dois valores (a e b).\n",
        "\n",
        "Ela retorna a soma (a + b).\n",
        "\n",
        "O valor retornado pode ser armazenado em uma variável (resultado)\n"
      ],
      "metadata": {
        "id": "Ki7rfviPktqM"
      }
    },
    {
      "cell_type": "markdown",
      "source": [
        "**5️⃣ Funções com Vários Parâmetros**\n",
        "\n",
        "Podemos passar múltiplos parâmetros."
      ],
      "metadata": {
        "id": "wBZHT82pkxwF"
      }
    },
    {
      "cell_type": "code",
      "source": [
        "def apresentar(nome, idade, cidade):\n",
        "    print(f\"Meu nome é {nome}, tenho {idade} anos e moro em {cidade}.\")\n",
        "\n",
        "# Chamando a função\n",
        "apresentar(\"Lucas\", 25, \"São Paulo\")\n"
      ],
      "metadata": {
        "id": "mwaXFtvzlWOc"
      },
      "execution_count": null,
      "outputs": []
    },
    {
      "cell_type": "markdown",
      "source": [
        "**🔍 Explicação**\n",
        "\n",
        "A função recebe três parâmetros e os exibe formatados no print().\n",
        "\n",
        "Podemos reutilizar essa função para várias pessoas."
      ],
      "metadata": {
        "id": "J3vktZyUlbtN"
      }
    },
    {
      "cell_type": "markdown",
      "source": [
        "**6️⃣ Parâmetros Opcionais e Valores Padrão**\n",
        "\n",
        "Podemos definir valores padrão para parâmetros, caso eles não sejam fornecidos."
      ],
      "metadata": {
        "id": "7zur2KA8lgt1"
      }
    },
    {
      "cell_type": "code",
      "source": [
        "def saudacao(nome=\"Visitante\"):\n",
        "    print(f\"Olá, {nome}! Seja bem-vindo! 😊\")\n",
        "\n",
        "# Chamando a função sem parâmetro\n",
        "saudacao()  # Saída: Olá, Visitante! Seja bem-vindo!\n",
        "\n",
        "# Chamando a função com parâmetro\n",
        "saudacao(\"Ana\")  # Saída: Olá, Ana! Seja bem-vindo!\n"
      ],
      "metadata": {
        "id": "isfHRqTelmAs"
      },
      "execution_count": null,
      "outputs": []
    },
    {
      "cell_type": "markdown",
      "source": [
        "**🔍 Explicação**\n",
        "\n",
        "Se nome não for passado, o valor padrão \"Visitante\" será usado."
      ],
      "metadata": {
        "id": "pil6DsUilp5T"
      }
    },
    {
      "cell_type": "markdown",
      "source": [
        "**7️⃣ Funções com while e for**\n",
        "\n",
        "Podemos usar funções dentro de loops.\n",
        "\n",
        "\n",
        "**🔹 Exemplo 1: Contagem Regressiva (while)**"
      ],
      "metadata": {
        "id": "-U14EA7hltAd"
      }
    },
    {
      "cell_type": "code",
      "source": [
        "def contagem_regressiva(n):\n",
        "    while n > 0:\n",
        "        print(n)\n",
        "        n -= 1\n",
        "    print(\"⏳ Tempo esgotado!\")\n",
        "\n",
        "contagem_regressiva(5)\n"
      ],
      "metadata": {
        "id": "vuuksf28lyPQ"
      },
      "execution_count": null,
      "outputs": []
    },
    {
      "cell_type": "markdown",
      "source": [
        "**🔍 Explicação**\n",
        "\n",
        "A função faz uma contagem regressiva até 0."
      ],
      "metadata": {
        "id": "9gs5eZsCl0OM"
      }
    },
    {
      "cell_type": "markdown",
      "source": [
        "**🔹 Exemplo 2: Exibir Lista de Nomes (for)**"
      ],
      "metadata": {
        "id": "3oK5yibMl3NP"
      }
    },
    {
      "cell_type": "code",
      "source": [
        "def exibir_nomes(nomes):\n",
        "    for nome in nomes:\n",
        "        print(f\"{nome}\")\n",
        "\n",
        "lista = [\"Lucas\", \"Mariana\", \"Pedro\"]\n",
        "exibir_nomes(lista)\n"
      ],
      "metadata": {
        "colab": {
          "base_uri": "https://localhost:8080/"
        },
        "id": "-yUzM9Bcl9ut",
        "outputId": "fa93190a-87ea-4788-bfca-02c7e3393a3c"
      },
      "execution_count": null,
      "outputs": [
        {
          "output_type": "stream",
          "name": "stdout",
          "text": [
            "Lucas\n",
            "Mariana\n",
            "Pedro\n"
          ]
        }
      ]
    },
    {
      "cell_type": "markdown",
      "source": [
        "**🔍 Explicação**\n",
        "\n",
        "A função percorre a lista e exibe cada nome."
      ],
      "metadata": {
        "id": "EBbjDZ7jmDHc"
      }
    },
    {
      "cell_type": "markdown",
      "source": [
        "# **8️⃣ Exercícios Práticos**\n",
        "\n",
        "**📌 Exercício 16 - Calculadora**\n",
        "\n",
        "Crie uma função calculadora(a, b, operacao) que recebe dois números e uma operação (+, -, *, /) e retorna o resultado.\n",
        "\n",
        "**📌 Exercício 17 - Verificar Número Par ou Ímpar**\n",
        "\n",
        "Crie uma função eh_par(numero) que recebe um número e retorna True se for par e False se for ímpar.\n",
        "\n",
        "**📌 Exercício 18- Média de Notas**\n",
        "\n",
        "Crie uma função calcular_media(notas) que recebe uma lista de notas e retorna a média."
      ],
      "metadata": {
        "id": "0qiJ7xESmFMM"
      }
    },
    {
      "cell_type": "markdown",
      "source": [
        "**9️⃣ Conclusão e Resumo**\n",
        "\n",
        "Funções permitem reutilização de código e organização.\n",
        "\n",
        "Elas podem receber parâmetros e retornar valores.\n",
        "\n",
        "Podemos combinar funções com laços e condições.\n",
        "\n",
        "Praticar é essencial! Teste os exercícios e crie suas próprias funções. 🚀\n",
        "\n",
        "**🔥 Agora pratique e implemente suas próprias funções! 😃**"
      ],
      "metadata": {
        "id": "0sGYnSiPmZPQ"
      }
    },
    {
      "cell_type": "markdown",
      "source": [
        "# **Listas em Python**\n",
        "\n",
        "**🎯 Objetivo da Aula**\n",
        "\n",
        "* Entender o que são listas e por que utilizá-las.\n",
        "\n",
        "* Aprender a criar, acessar e modificar listas.\n",
        "\n",
        "* Explorar operações e métodos úteis para listas.\n",
        "\n",
        "* Aplicar listas em exemplos práticos."
      ],
      "metadata": {
        "id": "iS5euArzt1Xl"
      }
    },
    {
      "cell_type": "markdown",
      "source": [
        "**1️⃣ O que são Listas?**\n",
        "\n",
        "Uma lista é uma estrutura de dados que armazena múltiplos valores em uma única variável.\n",
        "\n",
        "Em Python, as listas são representadas por colchetes [ ] e podem conter diferentes tipos de dados.\n",
        "\n",
        "\n",
        "**🔹 Criando uma Lista**"
      ],
      "metadata": {
        "id": "MRBw7FjIvIUR"
      }
    },
    {
      "cell_type": "code",
      "source": [
        "numeros = [1, 2, 3, 4, 5]\n",
        "nomes = [\"Alice\", \"Bruno\", \"Carlos\"]\n",
        "misturada = [10, \"Python\", True, 3.14]\n"
      ],
      "metadata": {
        "id": "CWvDHEW4vL7n"
      },
      "execution_count": null,
      "outputs": []
    },
    {
      "cell_type": "markdown",
      "source": [
        "**🔍 Explicação**\n",
        "\n",
        "numeros contém inteiros.\n",
        "\n",
        "nomes contém strings.\n",
        "\n",
        "misturada contém diferentes tipos de dados."
      ],
      "metadata": {
        "id": "fiZBBBoGvRBx"
      }
    },
    {
      "cell_type": "markdown",
      "source": [
        "**2️⃣ Acessando Elementos da Lista**\n",
        "\n",
        "Podemos acessar elementos pelo índice (posição), começando do 0."
      ],
      "metadata": {
        "id": "Z7rk-ViRvaEV"
      }
    },
    {
      "cell_type": "code",
      "source": [
        "frutas = [\"maçã\", \"banana\", \"laranja\"]\n",
        "\n",
        "print(frutas[0])  # Saída: maçã\n",
        "print(frutas[1])  # Saída: banana\n",
        "print(frutas[2])  # Saída: laranja\n"
      ],
      "metadata": {
        "colab": {
          "base_uri": "https://localhost:8080/"
        },
        "id": "romAMfL5vcnv",
        "outputId": "f0589622-e0ed-41e0-ffc2-28b94c61e5b5"
      },
      "execution_count": null,
      "outputs": [
        {
          "output_type": "stream",
          "name": "stdout",
          "text": [
            "maçã\n",
            "banana\n",
            "laranja\n"
          ]
        }
      ]
    },
    {
      "cell_type": "markdown",
      "source": [
        "**🔍 Explicação**\n",
        "\n",
        "frutas[0] retorna \"maçã\", pois é o primeiro elemento."
      ],
      "metadata": {
        "id": "pPff-EggvfM_"
      }
    },
    {
      "cell_type": "markdown",
      "source": [
        "**🔹 Índices Negativos**\n",
        "\n",
        "Podemos acessar os elementos de trás para frente usando índices negativos."
      ],
      "metadata": {
        "id": "7rcsteUDvgxX"
      }
    },
    {
      "cell_type": "code",
      "source": [
        "print(frutas[-1])  # Saída: laranja (último elemento)\n",
        "print(frutas[-2])  # Saída: banana"
      ],
      "metadata": {
        "colab": {
          "base_uri": "https://localhost:8080/"
        },
        "id": "YxH0Aufuvo0O",
        "outputId": "ff4bed98-b266-4bdb-f414-a38c123e0783"
      },
      "execution_count": null,
      "outputs": [
        {
          "output_type": "stream",
          "name": "stdout",
          "text": [
            "laranja\n",
            "banana\n"
          ]
        }
      ]
    },
    {
      "cell_type": "markdown",
      "source": [
        "**3️⃣ Modificando Listas**\n",
        "\n",
        "Podemos alterar elementos, adicionar e remover valores.\n",
        "\n",
        "**🔹 Alterando Elementos**"
      ],
      "metadata": {
        "id": "w7KstH9hvxTn"
      }
    },
    {
      "cell_type": "code",
      "source": [
        "frutas[1] = \"uva\"\n",
        "print(frutas)  # Saída: ['maçã', 'uva', 'laranja']\n"
      ],
      "metadata": {
        "colab": {
          "base_uri": "https://localhost:8080/"
        },
        "id": "EGhKpWVHv0xm",
        "outputId": "4809b278-e920-4fc2-a247-4ffccf3d1124"
      },
      "execution_count": null,
      "outputs": [
        {
          "output_type": "stream",
          "name": "stdout",
          "text": [
            "['maçã', 'uva', 'laranja']\n"
          ]
        }
      ]
    },
    {
      "cell_type": "markdown",
      "source": [
        "**🔹 Adicionando Elementos**"
      ],
      "metadata": {
        "id": "GBZmQBacv3or"
      }
    },
    {
      "cell_type": "code",
      "source": [
        "# Adiciona um elemento no final da lista\n",
        "frutas.append(\"abacaxi\")\n",
        "print(frutas)  # Saída: ['maçã', 'uva', 'laranja', 'abacaxi']\n",
        "\n",
        "# Adiciona um elemento em uma posição específica\n",
        "frutas.insert(1, \"morango\")\n",
        "print(frutas)  # Saída: ['maçã', 'morango', 'uva', 'laranja', 'abacaxi']\n"
      ],
      "metadata": {
        "id": "Ex0f2aKPv62_"
      },
      "execution_count": null,
      "outputs": []
    },
    {
      "cell_type": "markdown",
      "source": [
        "**🔹 Removendo Elementos**"
      ],
      "metadata": {
        "id": "92cB3OtYv-1e"
      }
    },
    {
      "cell_type": "code",
      "source": [
        "frutas.remove(\"uva\")  # Remove um elemento específico\n",
        "print(frutas)  # Saída: ['maçã', 'morango', 'laranja', 'abacaxi']\n",
        "\n",
        "frutas.pop()  # Remove o último elemento\n",
        "print(frutas)  # Saída: ['maçã', 'morango', 'laranja']\n"
      ],
      "metadata": {
        "id": "jaC3lfBZwBke"
      },
      "execution_count": null,
      "outputs": []
    },
    {
      "cell_type": "markdown",
      "source": [
        "**4️⃣ Percorrendo Listas com for**\n",
        "\n",
        "Podemos percorrer todos os elementos de uma lista com um laço for."
      ],
      "metadata": {
        "id": "OLcyrdwowH6m"
      }
    },
    {
      "cell_type": "code",
      "source": [
        "numeros = [10, 20, 30, 40, 50]\n",
        "\n",
        "for num in numeros:\n",
        "    print(num)  # Exibe cada número da lista\n"
      ],
      "metadata": {
        "colab": {
          "base_uri": "https://localhost:8080/"
        },
        "id": "BwNlxU6mwLzv",
        "outputId": "b03e4ef3-55ea-407a-f0b9-d3cccd58b23b"
      },
      "execution_count": null,
      "outputs": [
        {
          "output_type": "stream",
          "name": "stdout",
          "text": [
            "10\n",
            "20\n",
            "30\n",
            "40\n",
            "50\n"
          ]
        }
      ]
    },
    {
      "cell_type": "markdown",
      "source": [
        "**🔹 Percorrendo com Índices**"
      ],
      "metadata": {
        "id": "gqXaJv1lwQNm"
      }
    },
    {
      "cell_type": "code",
      "source": [
        "for i in range(len(numeros)):\n",
        "    print(f\"Índice {i}: {numeros[i]}\")\n"
      ],
      "metadata": {
        "colab": {
          "base_uri": "https://localhost:8080/"
        },
        "id": "_Unnu7fPwRpX",
        "outputId": "2d6e4180-d54e-4c51-cc06-4942c485c1ef"
      },
      "execution_count": null,
      "outputs": [
        {
          "output_type": "stream",
          "name": "stdout",
          "text": [
            "Índice 0: 10\n",
            "Índice 1: 20\n",
            "Índice 2: 30\n",
            "Índice 3: 40\n",
            "Índice 4: 50\n"
          ]
        }
      ]
    },
    {
      "cell_type": "markdown",
      "source": [
        "**5️⃣ Fatiamento de Listas**\n",
        "\n",
        "Podemos obter partes de uma lista utilizando:"
      ],
      "metadata": {
        "id": "h_9iz-PnwZ0e"
      }
    },
    {
      "cell_type": "code",
      "source": [
        "letras = [\"a\", \"b\", \"c\", \"d\", \"e\", \"f\"]\n",
        "\n",
        "print(letras[1:4])  # Saída: ['b', 'c', 'd']\n",
        "print(letras[:3])   # Saída: ['a', 'b', 'c']\n",
        "print(letras[3:])   # Saída: ['d', 'e', 'f']\n",
        "print(letras[-3:])  # Saída: ['d', 'e', 'f']\n"
      ],
      "metadata": {
        "id": "fda5QK-Hwoen"
      },
      "execution_count": null,
      "outputs": []
    },
    {
      "cell_type": "markdown",
      "source": [
        "**6️⃣ Funções Úteis para Listas**\n",
        "\n",
        "Python possui funções embutidas para manipular listas.\n",
        "\n",
        "**🔹 len() - Tamanho da Lista**"
      ],
      "metadata": {
        "id": "tXB34-UOwrPO"
      }
    },
    {
      "cell_type": "code",
      "source": [
        "print(len(letras))  # Saída: 6\n"
      ],
      "metadata": {
        "id": "fDN0UDKQwvie"
      },
      "execution_count": null,
      "outputs": []
    },
    {
      "cell_type": "markdown",
      "source": [
        "**🔹 sum() - Soma dos Elementos**"
      ],
      "metadata": {
        "id": "vqDVjxZFwyYG"
      }
    },
    {
      "cell_type": "code",
      "source": [
        "numeros = [1, 2, 3, 4, 5]\n",
        "print(sum(numeros))  # Saída: 15\n"
      ],
      "metadata": {
        "id": "IdyCsRdgw0B4"
      },
      "execution_count": null,
      "outputs": []
    },
    {
      "cell_type": "markdown",
      "source": [
        "**🔹 max() e min() - Maior e Menor Valor**"
      ],
      "metadata": {
        "id": "kM_Kfhiew2z3"
      }
    },
    {
      "cell_type": "code",
      "source": [
        "print(max(numeros))  # Saída: 5\n",
        "print(min(numeros))  # Saída: 1\n"
      ],
      "metadata": {
        "id": "A8oVYV-Ow5pA"
      },
      "execution_count": null,
      "outputs": []
    },
    {
      "cell_type": "markdown",
      "source": [
        "**🔹 sorted() - Ordenar a Lista**\n"
      ],
      "metadata": {
        "id": "ADo4u3VQw9lO"
      }
    },
    {
      "cell_type": "code",
      "source": [
        "print(sorted(numeros))  # Saída: [1, 2, 3, 4, 5]\n"
      ],
      "metadata": {
        "id": "2stdcxa5xBJH"
      },
      "execution_count": null,
      "outputs": []
    },
    {
      "cell_type": "markdown",
      "source": [
        "**7️⃣ Listas dentro de Listas (Matrizes)**\n",
        "\n",
        "Podemos criar listas dentro de listas para armazenar dados organizados."
      ],
      "metadata": {
        "id": "bEfXX2gJxDyn"
      }
    },
    {
      "cell_type": "code",
      "source": [
        "matriz = [\n",
        "    [1, 2, 3],\n",
        "    [4, 5, 6],\n",
        "    [7, 8, 9]\n",
        "]\n",
        "\n",
        "print(matriz[0])     # Saída: [1, 2, 3]\n",
        "print(matriz[1][2])  # Saída: 6\n"
      ],
      "metadata": {
        "colab": {
          "base_uri": "https://localhost:8080/"
        },
        "id": "RYFj26wBxHaw",
        "outputId": "991f05cb-2faf-409a-d209-9ee4d70e4933"
      },
      "execution_count": null,
      "outputs": [
        {
          "output_type": "stream",
          "name": "stdout",
          "text": [
            "[1, 2, 3]\n",
            "6\n"
          ]
        }
      ]
    },
    {
      "cell_type": "markdown",
      "source": [
        "# **8️⃣ Exercícios Práticos**\n",
        "\n",
        "**📌 Exercício 19 - Média de Notas**\n",
        "\n",
        "Crie um programa que solicita 3 notas do usuário, armazena em uma lista e calcula a média.\n",
        "\n",
        "**📌 Exercício 20 - Números Pares**\n",
        "\n",
        "Crie um programa que armazena números de 1 a 10 em uma lista e exibe apenas os pares.\n",
        "\n",
        "**📌 Exercício 21 - Lista de Compras**\n",
        "\n",
        "Crie um programa onde o usuário pode adicionar itens a uma lista de compras e exibir os itens ao final."
      ],
      "metadata": {
        "id": "oPFPve_rxLJ4"
      }
    },
    {
      "cell_type": "markdown",
      "source": [
        "**9️⃣ Conclusão e Resumo**\n",
        "\n",
        "Listas armazenam múltiplos valores em uma única variável.\n",
        "\n",
        "Podemos acessar, modificar, adicionar e remover elementos.\n",
        "\n",
        "Loops for e while ajudam a percorrer listas.\n",
        "\n",
        "Pratique! Os exercícios são essenciais para aprender melhor. 🚀\n",
        "\n",
        "**🔥 Agora, teste e implemente suas próprias listas! 😃**"
      ],
      "metadata": {
        "id": "AGYfD6_syvMh"
      }
    },
    {
      "cell_type": "markdown",
      "source": [
        "# **Dicionários em Python**\n",
        "\n",
        "**🎯 Objetivo da Aula**\n",
        "\n",
        "* Compreender o conceito de dicionários.\n",
        "\n",
        "* Aprender a criar, acessar e modificar dicionários.\n",
        "\n",
        "* Explorar métodos úteis para manipular dicionários.\n",
        "\n",
        "* Aplicar dicionários em exemplos práticos.\n"
      ],
      "metadata": {
        "id": "JQcvH8Mky0Dg"
      }
    },
    {
      "cell_type": "markdown",
      "source": [
        "**1️⃣ O que são Dicionários?**\n",
        "\n",
        "Um dicionário em Python é uma estrutura de dados que armazena pares chave: valor.\n",
        "\n",
        "Diferente das listas, onde os elementos são acessados por índices, nos dicionários acessamos os valores usando chaves.\n",
        "\n",
        "\n",
        "**🔹 Criando um Dicionário**"
      ],
      "metadata": {
        "id": "AzQEx5U9zpnA"
      }
    },
    {
      "cell_type": "code",
      "source": [
        "aluno = {\n",
        "    \"nome\": \"Carlos\",\n",
        "    \"idade\": 20,\n",
        "    \"curso\": \"Desenvolvimento de Software\"\n",
        "}\n",
        "\n",
        "print(aluno)\n",
        "# Saída: {'nome': 'Carlos', 'idade': 20, 'curso': 'Desenvolvimento de Software'}\n"
      ],
      "metadata": {
        "colab": {
          "base_uri": "https://localhost:8080/"
        },
        "id": "A-quQelLzvbV",
        "outputId": "3478f54a-5876-4d43-c793-c1e6cfb1cdc6"
      },
      "execution_count": null,
      "outputs": [
        {
          "output_type": "stream",
          "name": "stdout",
          "text": [
            "{'nome': 'Carlos', 'idade': 20, 'curso': 'Desenvolvimento de Software'}\n"
          ]
        }
      ]
    },
    {
      "cell_type": "markdown",
      "source": [
        "**🔍 Explicação**\n",
        "\n",
        "\"nome\", \"idade\" e \"curso\" são as chaves.\n",
        "\n",
        "\"Carlos\", 20 e \"Desenvolvimento de Software\" são os valores."
      ],
      "metadata": {
        "id": "CtDoy9ZGzy-v"
      }
    },
    {
      "cell_type": "markdown",
      "source": [
        "**2️⃣ Acessando Elementos do Dicionário**\n",
        "\n",
        "Para acessar um valor, usamos a chave correspondente."
      ],
      "metadata": {
        "id": "P7-6slNEz7SP"
      }
    },
    {
      "cell_type": "code",
      "source": [
        "print(aluno[\"nome\"])   # Saída: Carlos\n",
        "print(aluno[\"idade\"])  # Saída: 20\n"
      ],
      "metadata": {
        "colab": {
          "base_uri": "https://localhost:8080/"
        },
        "id": "4KbxUuDz0S7d",
        "outputId": "481cd376-12e0-40c6-a098-5c4c258bcf82"
      },
      "execution_count": null,
      "outputs": [
        {
          "output_type": "stream",
          "name": "stdout",
          "text": [
            "Carlos\n",
            "20\n"
          ]
        }
      ]
    },
    {
      "cell_type": "markdown",
      "source": [
        "Se tentarmos acessar uma chave que não existe, ocorrerá um erro.\n",
        "\n",
        "Para evitar isso, usamos .get(), que retorna None se a chave não existir."
      ],
      "metadata": {
        "id": "UGCmS2v40XYX"
      }
    },
    {
      "cell_type": "code",
      "source": [
        "print(aluno.get(\"nota\"))  # Saída: None\n"
      ],
      "metadata": {
        "colab": {
          "base_uri": "https://localhost:8080/"
        },
        "id": "uADD3Gsg0Z14",
        "outputId": "7ea08f19-7ead-46fe-c05f-087c40853d11"
      },
      "execution_count": null,
      "outputs": [
        {
          "output_type": "stream",
          "name": "stdout",
          "text": [
            "None\n"
          ]
        }
      ]
    },
    {
      "cell_type": "markdown",
      "source": [
        "**3️⃣ Modificando um Dicionário**\n",
        "\n",
        "🔹 Alterando Valores"
      ],
      "metadata": {
        "id": "wHbRfp-b0jsI"
      }
    },
    {
      "cell_type": "code",
      "source": [
        "aluno[\"idade\"] = 21\n",
        "print(aluno)\n",
        "# Saída: {'nome': 'Carlos', 'idade': 21, 'curso': 'Desenvolvimento de Software'}\n"
      ],
      "metadata": {
        "id": "_5ieyMLI0nLY"
      },
      "execution_count": null,
      "outputs": []
    },
    {
      "cell_type": "markdown",
      "source": [
        "🔹 Adicionando Novos Elementos"
      ],
      "metadata": {
        "id": "i5LbHy1_0s1E"
      }
    },
    {
      "cell_type": "code",
      "source": [
        "aluno[\"nota\"] = 9.5\n",
        "print(aluno)\n",
        "# Saída: {'nome': 'Carlos', 'idade': 21, 'curso': 'Desenvolvimento de Software', 'nota': 9.5}\n"
      ],
      "metadata": {
        "id": "38-QSFkh0t4_"
      },
      "execution_count": null,
      "outputs": []
    },
    {
      "cell_type": "markdown",
      "source": [
        "🔹 Removendo Elementos"
      ],
      "metadata": {
        "id": "sDAPwRCI0v-o"
      }
    },
    {
      "cell_type": "code",
      "source": [
        "del aluno[\"curso\"]\n",
        "print(aluno)\n",
        "# Saída: {'nome': 'Carlos', 'idade': 21, 'nota': 9.5}\n"
      ],
      "metadata": {
        "id": "_xFzDEC10xpR"
      },
      "execution_count": null,
      "outputs": []
    },
    {
      "cell_type": "markdown",
      "source": [
        "**4️⃣ Percorrendo um Dicionário**\n",
        "\n",
        "Podemos percorrer um dicionário usando for.\n",
        "\n",
        "**🔹 Percorrendo apenas as Chaves**"
      ],
      "metadata": {
        "id": "__wc6utB0z3g"
      }
    },
    {
      "cell_type": "code",
      "source": [
        "for chave in aluno:\n",
        "    print(chave)\n",
        "# Saída:\n",
        "# nome\n",
        "# idade\n",
        "# nota\n"
      ],
      "metadata": {
        "id": "UMXR5veq0328"
      },
      "execution_count": null,
      "outputs": []
    },
    {
      "cell_type": "markdown",
      "source": [
        "**🔹 Percorrendo as Chaves e os Valores**"
      ],
      "metadata": {
        "id": "mZrDp8x508tI"
      }
    },
    {
      "cell_type": "code",
      "source": [
        "for chave, valor in aluno.items():\n",
        "    print(f\"{chave}: {valor}\")\n",
        "# Saída:\n",
        "# nome: Carlos\n",
        "# idade: 21\n",
        "# nota: 9.5\n"
      ],
      "metadata": {
        "id": "ORCAGb7n0_1n"
      },
      "execution_count": null,
      "outputs": []
    },
    {
      "cell_type": "markdown",
      "source": [
        "**5️⃣ Métodos Úteis para Dicionários**\n",
        "\n",
        "**🔹 keys() - Retorna apenas as Chaves**"
      ],
      "metadata": {
        "id": "I8EuVHzq1CQ9"
      }
    },
    {
      "cell_type": "code",
      "source": [
        "print(aluno.keys())\n",
        "# Saída: dict_keys(['nome', 'idade', 'nota'])\n"
      ],
      "metadata": {
        "id": "8-7X6sO61JDp"
      },
      "execution_count": null,
      "outputs": []
    },
    {
      "cell_type": "markdown",
      "source": [
        "**🔹 values() - Retorna apenas os Valores**"
      ],
      "metadata": {
        "id": "lRBTj_UB1LGp"
      }
    },
    {
      "cell_type": "code",
      "source": [
        "print(aluno.values())\n",
        "# Saída: dict_values(['Carlos', 21, 9.5])\n"
      ],
      "metadata": {
        "id": "JwPWQRuL1MSx"
      },
      "execution_count": null,
      "outputs": []
    },
    {
      "cell_type": "markdown",
      "source": [
        "**🔹 items() - Retorna Chaves e Valores**"
      ],
      "metadata": {
        "id": "s6kCKXjV1RsY"
      }
    },
    {
      "cell_type": "code",
      "source": [
        "print(aluno.items())\n",
        "# Saída: dict_items([('nome', 'Carlos'), ('idade', 21), ('nota', 9.5)])\n"
      ],
      "metadata": {
        "id": "Xr1ScMCg1TfU"
      },
      "execution_count": null,
      "outputs": []
    },
    {
      "cell_type": "markdown",
      "source": [
        "**6️⃣ Dicionários Dentro de Dicionários**\n",
        "\n",
        "Podemos armazenar um dicionário dentro de outro."
      ],
      "metadata": {
        "id": "s4eAnB241YFq"
      }
    },
    {
      "cell_type": "code",
      "source": [
        "alunos = {\n",
        "    \"aluno1\": {\"nome\": \"Carlos\", \"idade\": 20, \"nota\": 8.5},\n",
        "    \"aluno2\": {\"nome\": \"Ana\", \"idade\": 22, \"nota\": 9.0}\n",
        "}\n",
        "\n",
        "print(alunos[\"aluno1\"][\"nome\"])  # Saída: Carlos\n",
        "print(alunos[\"aluno2\"][\"nota\"])  # Saída: 9.0\n"
      ],
      "metadata": {
        "id": "41ysr1Ch1bE8"
      },
      "execution_count": null,
      "outputs": []
    },
    {
      "cell_type": "markdown",
      "source": [
        "# **7️⃣ Aplicações Práticas**\n",
        "\n",
        "**📌 Exercício 22 - Cadastro de Contatos**\n",
        "\n",
        "Crie um dicionário para armazenar números de telefone e permita que o usuário consulte um contato.\n",
        "\n",
        "**📌 Exercício 23 - Cadastro de Notas de Alunos**\n",
        "\n",
        "Crie um dicionário onde o usuário possa cadastrar alunos e suas notas.\n",
        "\n",
        "**📌 Exercício 24 - Tradutor Simples**\n",
        "\n",
        "Crie um dicionário que funcione como um mini tradutor"
      ],
      "metadata": {
        "id": "ov-Bbtyu1w4g"
      }
    },
    {
      "cell_type": "markdown",
      "source": [
        "**8️⃣ Conclusão e Resumo**\n",
        "\n",
        "Dicionários armazenam pares chave: valor.\n",
        "\n",
        "Podemos acessar, modificar, adicionar e remover elementos.\n",
        "\n",
        "Métodos como .keys(), .values() e .items() são úteis para manipulação.\n",
        "\n",
        "Pratique! Criar dicionários ajudará no desenvolvimento lógico. 🚀\n",
        "\n",
        "**🔥 Agora, implemente seus próprios dicionários! 😃**"
      ],
      "metadata": {
        "id": "a90Rv8Od2CHs"
      }
    },
    {
      "cell_type": "markdown",
      "source": [
        "# **Como Listas e Dicionários Auxiliam na Programação Orientada a Objetos (POO) em Python**\n",
        "\n",
        "**🎯 Objetivo da Aula**\n",
        "\n",
        "* Entender como listas e dicionários podem ser usados na POO.\n",
        "\n",
        "* Criar classes com atributos dinâmicos usando listas e dicionários.\n",
        "\n",
        "* Implementar métodos que manipulam essas estruturas de dados.\n",
        "\n",
        "* Aplicar o conceito na prática com exemplos e exercícios.:"
      ],
      "metadata": {
        "id": "YuHWJ0FJ2GIo"
      }
    },
    {
      "cell_type": "markdown",
      "source": [
        "**1️⃣ Revisão Rápida de POO em Python**\n",
        "\n",
        "A Programação Orientada a Objetos (POO) é um paradigma baseado na modelagem de entidades do mundo real como **objetos**, que possuem **atributos (dados)** e **métodos (funções associadas).**\n",
        "\n",
        "**🔹 Exemplo de uma Classe Simples:**"
      ],
      "metadata": {
        "id": "Em78A9Yx2NVJ"
      }
    },
    {
      "cell_type": "code",
      "source": [
        "class Aluno:\n",
        "    def __init__(self, nome, idade):\n",
        "        self.nome = nome\n",
        "        self.idade = idade\n",
        "\n",
        "    def exibir_info(self):\n",
        "        print(f\"Aluno: {self.nome}, Idade: {self.idade}\")\n",
        "\n",
        "# Criando um objeto\n",
        "aluno1 = Aluno(\"Carlos\", 20)\n",
        "aluno1.exibir_info()\n",
        "# Saída: Aluno: Carlos, Idade: 20\n"
      ],
      "metadata": {
        "id": "p-y68Yfi2bio"
      },
      "execution_count": null,
      "outputs": []
    },
    {
      "cell_type": "markdown",
      "source": [
        "**2️⃣ Como Listas e Dicionários Auxiliam na POO?**\n",
        "\n",
        "🔹 Listas podem armazenar múltiplos objetos da mesma classe.\n",
        "\n",
        "🔹 Dicionários permitem armazenar e acessar os objetos por chaves, facilitando a busca e organização dos dados."
      ],
      "metadata": {
        "id": "HXThEinR2ppg"
      }
    },
    {
      "cell_type": "markdown",
      "source": [
        "**3️⃣ Aplicando Listas em Classes**\n",
        "\n",
        "Imagine um sistema de gerenciamento de alunos, onde cada aluno pode ser armazenado em uma lista."
      ],
      "metadata": {
        "id": "0zTdPFwi2t2q"
      }
    },
    {
      "cell_type": "code",
      "source": [
        "class Aluno:\n",
        "    def __init__(self, nome, idade):\n",
        "        self.nome = nome\n",
        "        self.idade = idade\n",
        "\n",
        "    def exibir_info(self):\n",
        "        print(f\"Aluno: {self.nome}, Idade: {self.idade}\")\n",
        "\n",
        "# Criando uma lista para armazenar alunos\n",
        "alunos = [\n",
        "    Aluno(\"Carlos\", 20),\n",
        "    Aluno(\"Ana\", 22),\n",
        "    Aluno(\"João\", 19)\n",
        "]\n",
        "\n",
        "# Percorrendo a lista e exibindo os alunos\n",
        "for aluno in alunos:\n",
        "    aluno.exibir_info()\n"
      ],
      "metadata": {
        "id": "bokn3EcQ2yxT"
      },
      "execution_count": null,
      "outputs": []
    },
    {
      "cell_type": "markdown",
      "source": [
        "**🔍 Vantagens de usar Listas:**\n",
        "\n",
        "✅ Podemos armazenar vários objetos de uma mesma classe.\n",
        "\n",
        "✅ Facilita a manipulação e iteração sobre os objetos."
      ],
      "metadata": {
        "id": "Cd0qwVhH2094"
      }
    },
    {
      "cell_type": "markdown",
      "source": [
        "**4️⃣ Aplicando Dicionários em Classes**\n",
        "\n",
        "Agora, vamos usar um dicionário para armazenar os alunos, associando cada um a um ID único."
      ],
      "metadata": {
        "id": "8xf9rXNv23xp"
      }
    },
    {
      "cell_type": "code",
      "source": [
        "class Aluno:\n",
        "    def __init__(self, id_aluno, nome, idade):\n",
        "        self.id_aluno = id_aluno\n",
        "        self.nome = nome\n",
        "        self.idade = idade\n",
        "\n",
        "    def exibir_info(self):\n",
        "        print(f\"ID: {self.id_aluno} | Nome: {self.nome} | Idade: {self.idade}\")\n",
        "\n",
        "# Criando um dicionário de alunos\n",
        "alunos = {\n",
        "    101: Aluno(101, \"Carlos\", 20),\n",
        "    102: Aluno(102, \"Ana\", 22),\n",
        "    103: Aluno(103, \"João\", 19)\n",
        "}\n",
        "\n",
        "# Acessando um aluno pelo ID\n",
        "#id_busca = 101\n",
        "id_busca = int(input(\"Digite um id para buscar o aluno: \"))\n",
        "\n",
        "if id_busca in alunos:\n",
        "    alunos[id_busca].exibir_info()\n",
        "else:\n",
        "    print(\"Aluno não encontrado!\")\n"
      ],
      "metadata": {
        "colab": {
          "base_uri": "https://localhost:8080/"
        },
        "id": "SyYhT1OZ2-P5",
        "outputId": "1641d32e-531e-4040-f35c-ec0f43ca3ac1"
      },
      "execution_count": null,
      "outputs": [
        {
          "output_type": "stream",
          "name": "stdout",
          "text": [
            "Digite um id para buscar o aluno: 9\n",
            "Aluno não encontrado!\n"
          ]
        }
      ]
    },
    {
      "cell_type": "markdown",
      "source": [
        "**🔍 Vantagens de usar Dicionários:**\n",
        "\n",
        "✅ Permite acesso rápido a um objeto específico.\n",
        "\n",
        "✅ Usa chaves únicas para identificação."
      ],
      "metadata": {
        "id": "ig9wQHgP3jxh"
      }
    },
    {
      "cell_type": "markdown",
      "source": [
        "**5️⃣ Exemplo Mais Completo: Sistema de Gerenciamento de Cursos**\n",
        "\n",
        "Agora, vamos criar um sistema onde:\n",
        "\n",
        "✔ Alunos são armazenados em um dicionário.\n",
        "\n",
        "✔ Cada aluno pode se matricular em várias disciplinas (armazenadas em uma lista)."
      ],
      "metadata": {
        "id": "KI3-D3cR4Qty"
      }
    },
    {
      "cell_type": "code",
      "source": [
        "class Aluno:\n",
        "    def __init__(self, id_aluno, nome):\n",
        "        self.id_aluno = id_aluno\n",
        "        self.nome = nome\n",
        "        self.cursos = []  # Lista para armazenar cursos\n",
        "\n",
        "    def matricular(self, curso):\n",
        "        self.cursos.append(curso)\n",
        "        print(f\"{self.nome} foi matriculado em {curso}.\")\n",
        "\n",
        "    def exibir_info(self):\n",
        "        print(f\"ID: {self.id_aluno} | Nome: {self.nome}\")\n",
        "        print(f\"Cursos: {', '.join(self.cursos) if self.cursos else 'Nenhum curso matriculado'}\")\n",
        "\n",
        "# Criando um dicionário de alunos\n",
        "alunos = {\n",
        "    101: Aluno(101, \"Carlos\"),\n",
        "    102: Aluno(102, \"Ana\"),\n",
        "    103: Aluno(103, \"João\")\n",
        "}\n",
        "\n",
        "# Matriculando alunos em cursos\n",
        "alunos[101].matricular(\"Python\")\n",
        "alunos[101].matricular(\"Banco de Dados\")\n",
        "alunos[102].matricular(\"Desenvolvimento Web\")\n",
        "\n",
        "# Exibindo informações dos alunos\n",
        "for aluno in alunos.values():\n",
        "    aluno.exibir_info()\n"
      ],
      "metadata": {
        "id": "EC6JWBQX4ZHR"
      },
      "execution_count": null,
      "outputs": []
    },
    {
      "cell_type": "markdown",
      "source": [
        "**6️⃣ Exercícios Práticos para Fixação**\n",
        "\n",
        "**🔹 Desafio 1: Cadastro de Produtos**\n",
        "\n",
        "\n",
        "\n",
        "*   Crie uma classe Produto com os atributos id_produto, nome e preco.\n",
        "*   Utilize um dicionário para armazenar os produtos.\n",
        "*   Permita adicionar e buscar produtos pelo ID."
      ],
      "metadata": {
        "id": "qZ3Ut9LX4dgL"
      }
    },
    {
      "cell_type": "markdown",
      "source": [
        "**🔹 Desafio 2: Controle de Notas**\n",
        "\n",
        "Crie uma classe Aluno onde cada aluno pode ter múltiplas notas (armazenadas em uma lista).\n",
        "\n",
        "* Implemente um método para calcular a média do aluno.\n",
        "\n",
        "* Permita adicionar novas notas dinamicamente."
      ],
      "metadata": {
        "id": "UME8EFPq5CMq"
      }
    },
    {
      "cell_type": "markdown",
      "source": [
        "**7️⃣ Conclusão e Resumo**\n",
        "\n",
        "✅ Listas são úteis para armazenar múltiplos objetos.\n",
        "\n",
        "✅ Dicionários facilitam o acesso rápido a objetos.\n",
        "\n",
        "✅ Juntos, ajudam a modelar sistemas mais organizados e eficientes.\n",
        "\n",
        "\n",
        "**🔥 Agora, aplique esses conceitos e crie seus próprios sistemas! 🚀**"
      ],
      "metadata": {
        "id": "J5GXePrK5Xqx"
      }
    }
  ]
}