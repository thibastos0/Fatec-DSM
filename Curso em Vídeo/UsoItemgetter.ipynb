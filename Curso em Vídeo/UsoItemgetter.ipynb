{
  "cells": [
    {
      "cell_type": "code",
      "execution_count": 1,
      "metadata": {
        "vscode": {
          "languageId": "plaintext"
        },
        "id": "KYI_BDKVIJZ5"
      },
      "outputs": [],
      "source": [
        "from random import randint\n",
        "from operator import itemgetter"
      ]
    },
    {
      "cell_type": "code",
      "execution_count": 3,
      "metadata": {
        "vscode": {
          "languageId": "plaintext"
        },
        "id": "9OLJG8BLIJZ7",
        "outputId": "45de55c8-3a87-45ba-ad16-a836368bcfdd",
        "colab": {
          "base_uri": "https://localhost:8080/"
        }
      },
      "outputs": [
        {
          "output_type": "stream",
          "name": "stdout",
          "text": [
            "jogador1 tirou 4 no dado.\n",
            "jogador2 tirou 6 no dado.\n",
            "jogador3 tirou 2 no dado.\n",
            "jogador4 tirou 5 no dado.\n",
            "== Ranking dos jogadores ==\n",
            "1º lugar: jogador2 com 6\n",
            "2º lugar: jogador4 com 5\n",
            "3º lugar: jogador1 com 4\n",
            "4º lugar: jogador3 com 2\n"
          ]
        }
      ],
      "source": [
        "sorteio = {\n",
        "    'jogador1': randint(1, 6),\n",
        "    'jogador2': randint(1, 6),\n",
        "    'jogador3': randint(1, 6),\n",
        "    'jogador4': randint(1, 6)\n",
        "}\n",
        "for k, v in sorteio.items():\n",
        "    print(f'{k} tirou {v} no dado.')\n",
        "\n",
        "ranking = sorted(sorteio.items(), key=itemgetter(1), reverse=True)\n",
        "\n",
        "print('== Ranking dos jogadores ==')\n",
        "for i, v in enumerate(ranking):\n",
        "    print(f'{i+1}º lugar: {v[0]} com {v[1]}')"
      ]
    }
  ],
  "metadata": {
    "language_info": {
      "name": "python"
    },
    "colab": {
      "provenance": []
    },
    "kernelspec": {
      "name": "python3",
      "display_name": "Python 3"
    }
  },
  "nbformat": 4,
  "nbformat_minor": 0
}